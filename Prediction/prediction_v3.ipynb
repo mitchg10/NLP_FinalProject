{
 "cells": [
  {
   "cell_type": "code",
   "execution_count": 2,
   "metadata": {},
   "outputs": [
    {
     "name": "stdout",
     "output_type": "stream",
     "text": [
      "Note: you may need to restart the kernel to use updated packages.\n"
     ]
    }
   ],
   "source": [
    "%pip install -q -r requirements.txt"
   ]
  },
  {
   "cell_type": "markdown",
   "metadata": {
    "id": "j8Yf7Fldmgq1"
   },
   "source": [
    "## Get Data"
   ]
  },
  {
   "cell_type": "code",
   "execution_count": 3,
   "metadata": {
    "id": "1_6wID7Clh_O"
   },
   "outputs": [],
   "source": [
    "import requests\n",
    "import os\n",
    "from urllib.parse import urljoin\n",
    "import base64\n",
    "import json\n",
    "\n",
    "def download_github_csvs(repo_url=\"https://github.com/mitchg10/Textbook-Samples.git\", output_dir=\"data\"):\n",
    "    \"\"\"\n",
    "    Download all CSV files from a GitHub repository.\n",
    "\n",
    "    Parameters:\n",
    "    repo_url (str): URL of the GitHub repository\n",
    "    output_dir (str): Local directory to save the CSV files\n",
    "\n",
    "    Returns:\n",
    "    list: List of downloaded file paths\n",
    "    \"\"\"\n",
    "    # Convert github.com URL to api.github.com\n",
    "    api_base = \"https://api.github.com/repos/\"\n",
    "    repo_path = repo_url.replace(\"https://github.com/\", \"\").replace(\".git\", \"\")\n",
    "    api_url = f\"{api_base}{repo_path}/contents\"\n",
    "\n",
    "    # Create output directory if it doesn't exist\n",
    "    os.makedirs(output_dir, exist_ok=True)\n",
    "\n",
    "    downloaded_files = []\n",
    "\n",
    "    try:\n",
    "        # Get repository contents\n",
    "        response = requests.get(api_url)\n",
    "        response.raise_for_status()\n",
    "        contents = response.json()\n",
    "\n",
    "        # Filter for CSV files and download them\n",
    "        for item in contents:\n",
    "            if item['name'].lower().endswith('.csv'):\n",
    "                # Get file content\n",
    "                file_response = requests.get(item['download_url'])\n",
    "                file_response.raise_for_status()\n",
    "\n",
    "                # Save file locally\n",
    "                file_path = os.path.join(output_dir, item['name'])\n",
    "                with open(file_path, 'wb') as f:\n",
    "                    f.write(file_response.content)\n",
    "\n",
    "                downloaded_files.append(file_path)\n",
    "                print(f\"Downloaded: {item['name']}\")\n",
    "\n",
    "    except requests.exceptions.RequestException as e:\n",
    "        print(f\"Error downloading files: {str(e)}\")\n",
    "        return []\n",
    "\n",
    "    except Exception as e:\n",
    "        print(f\"Unexpected error: {str(e)}\")\n",
    "        return []\n",
    "\n",
    "    return downloaded_files"
   ]
  },
  {
   "cell_type": "code",
   "execution_count": 4,
   "metadata": {
    "colab": {
     "base_uri": "https://localhost:8080/"
    },
    "id": "loBliP35m4mH",
    "outputId": "22ac1239-9765-4938-dec1-b3c409a40acc"
   },
   "outputs": [
    {
     "name": "stdout",
     "output_type": "stream",
     "text": [
      "Downloaded: comparative_languages.csv\n",
      "Downloaded: computer_organization_i.csv\n",
      "Downloaded: computer_organization_ii.csv\n",
      "Downloaded: computer_systems.csv\n",
      "Downloaded: data_structures_and_algorithms.csv\n",
      "Downloaded: intro_software_design.csv\n",
      "Downloaded: problem_solving.csv\n",
      "Downloaded: professionalism_computing.csv\n",
      "Downloaded: software_design_and_data_structures.csv\n"
     ]
    }
   ],
   "source": [
    "# Get the csv files\n",
    "downloaded_files = download_github_csvs()"
   ]
  },
  {
   "cell_type": "markdown",
   "metadata": {
    "id": "TX0mCPorlh_P"
   },
   "source": [
    "## Load Data"
   ]
  },
  {
   "cell_type": "code",
   "execution_count": 5,
   "metadata": {
    "id": "SzCA8waZlh_P"
   },
   "outputs": [],
   "source": [
    "import os\n",
    "import pandas as pd\n",
    "\n",
    "def load_data(directory):\n",
    "    data = []\n",
    "    for filename in os.listdir(directory):\n",
    "        print(f\"Loading data from {filename}\")\n",
    "        df = pd.read_csv(os.path.join(directory, filename))\n",
    "        df = df[df['Example'].notna() & (df['Example'] != '[]')]  # Remove empty examples\n",
    "        df['Codes'] = df['Codes'].apply(lambda x: x.split(','))  # Split multi-label codes\n",
    "        data.append(df)\n",
    "    return pd.concat(data, ignore_index=True)"
   ]
  },
  {
   "cell_type": "code",
   "execution_count": 8,
   "metadata": {
    "colab": {
     "base_uri": "https://localhost:8080/"
    },
    "id": "gHiaDzh4lh_Q",
    "outputId": "650dd3b3-bc45-49f1-8342-96149615d0f9"
   },
   "outputs": [
    {
     "name": "stdout",
     "output_type": "stream",
     "text": [
      "Loading data from data_structures_and_algorithms.csv\n",
      "Loading data from software_design_and_data_structures.csv\n",
      "Loading data from computer_systems.csv\n",
      "Loading data from professionalism_computing.csv\n",
      "Loading data from intro_software_design.csv\n",
      "Loading data from computer_organization_i.csv\n",
      "Loading data from comparative_languages.csv\n",
      "Loading data from computer_organization_ii.csv\n",
      "Loading data from problem_solving.csv\n",
      "\n",
      "Data shape: (9000, 6)\n",
      "\n"
     ]
    }
   ],
   "source": [
    "# Load data\n",
    "df = load_data('./data/')\n",
    "print(f\"\\nData shape: {df.shape}\\n\")"
   ]
  },
  {
   "cell_type": "code",
   "execution_count": null,
   "metadata": {
    "colab": {
     "base_uri": "https://localhost:8080/"
    },
    "id": "ZyaQ3obQlh_Q",
    "outputId": "f49a0f13-ab46-4283-bcb8-5c2220b637fa"
   },
   "outputs": [
    {
     "name": "stdout",
     "output_type": "stream",
     "text": [
      "Number of unique labels: 10\n"
     ]
    }
   ],
   "source": [
    "# Get the number of unique labels\n",
    "labels = set()\n",
    "for codes in df['Codes']:\n",
    "    labels.update(codes)\n",
    "num_labels = len(labels)\n",
    "print(f\"Number of unique labels: {num_labels}\")"
   ]
  },
  {
   "cell_type": "code",
   "execution_count": null,
   "metadata": {
    "id": "RC0W_aXGlh_Q"
   },
   "outputs": [],
   "source": [
    "passages = []\n",
    "passage_labels = []\n",
    "\n",
    "# Separate examples and labels so that each example has a single label\n",
    "for i, row in df.iterrows():\n",
    "    example = row['Example']\n",
    "    for label in row['Codes']:\n",
    "        passages.append(example)\n",
    "        passage_labels.append(label)"
   ]
  },
  {
   "cell_type": "code",
   "execution_count": null,
   "metadata": {
    "colab": {
     "base_uri": "https://localhost:8080/"
    },
    "id": "QZUITQdjlh_Q",
    "outputId": "b2b87969-56b7-4451-ee25-6489de4a5673"
   },
   "outputs": [
    {
     "name": "stdout",
     "output_type": "stream",
     "text": [
      "Example: Data analysis in computing not only requires proficient technical skills but also a thorough understanding of ethical implications. For instance, when analyzing user data to enhance software features, engineers must adhere to privacy laws and ethical guidelines to protect user information. This involves implementing robust security measures and transparent data handling practices. Moreover, the use of tools like Python's pandas library for data manipulation or R for statistical analysis should be guided by best professional standards to ensure accuracy and reliability in results.\n",
      "Label: PRAC\n"
     ]
    }
   ],
   "source": [
    "# Print an example\n",
    "print(f'Example: {passages[0]}')\n",
    "print(f'Label: {passage_labels[0]}')"
   ]
  },
  {
   "cell_type": "code",
   "execution_count": null,
   "metadata": {
    "colab": {
     "base_uri": "https://localhost:8080/"
    },
    "id": "n2c0yLJClh_R",
    "outputId": "c8c1d3f2-94d2-4944-ef27-ea6aafc76fc6"
   },
   "outputs": [
    {
     "name": "stdout",
     "output_type": "stream",
     "text": [
      "Training examples: 6480\n",
      "Dev examples: 720\n",
      "Test examples: 1800\n"
     ]
    }
   ],
   "source": [
    "from sklearn.preprocessing import MultiLabelBinarizer\n",
    "from sklearn.model_selection import train_test_split\n",
    "\n",
    "# Transform labels using MultiLabelBinarizer\n",
    "mlb = MultiLabelBinarizer()\n",
    "mlb.fit(df['Codes'])\n",
    "\n",
    "# Split data\n",
    "passages_train, passages_test, labels_train, labels_test = train_test_split(\n",
    "    df['Example'].values,\n",
    "    mlb.transform([label for label in df['Codes']]),\n",
    "    test_size=0.2,\n",
    "    random_state=42\n",
    ")\n",
    "\n",
    "passages_train, passages_dev, labels_train, labels_dev = train_test_split(\n",
    "    passages_train,\n",
    "    labels_train,\n",
    "    test_size=0.1,\n",
    "    random_state=42\n",
    ")\n",
    "\n",
    "print(f'Training examples: {len(passages_train)}')\n",
    "print(f'Dev examples: {len(passages_dev)}')\n",
    "print(f'Test examples: {len(passages_test)}')"
   ]
  },
  {
   "cell_type": "code",
   "execution_count": null,
   "metadata": {
    "colab": {
     "base_uri": "https://localhost:8080/"
    },
    "id": "Ybc5ibablh_R",
    "outputId": "5690b46b-f5c6-4892-a6f9-e5f47270d268"
   },
   "outputs": [
    {
     "name": "stdout",
     "output_type": "stream",
     "text": [
      "Example: Figure 3 illustrates a binary search tree (BST) used for efficient data retrieval operations such as insertion, deletion, and searching. In practical applications, BSTs are commonly implemented in databases to maintain an ordered list of records, optimizing access times through logarithmic complexity operations. To ensure balanced performance, self-balancing techniques like AVL trees or red-black trees are often employed. For instance, a software system managing real-time stock market data might use a balanced BST to quickly update and query price changes. This implementation not only adheres to professional standards for efficient data management but also demonstrates best practices in software design for scalable and maintainable systems.\n",
      "Label: [0 0 0 0 0 0 0 1 1 0]\n"
     ]
    }
   ],
   "source": [
    "# Print a sample\n",
    "print(f\"Example: {passages_train[12]}\")\n",
    "print(f\"Label: {labels_train[12]}\")"
   ]
  },
  {
   "cell_type": "markdown",
   "metadata": {
    "id": "pjkpygrhlh_R"
   },
   "source": [
    "## Preprocessing"
   ]
  },
  {
   "cell_type": "code",
   "execution_count": null,
   "metadata": {
    "id": "UTnUArYfzpO-"
   },
   "outputs": [],
   "source": [
    "BATCH_SIZE = 64"
   ]
  },
  {
   "cell_type": "code",
   "execution_count": null,
   "metadata": {
    "colab": {
     "base_uri": "https://localhost:8080/",
     "height": 272,
     "referenced_widgets": [
      "a5cfa69c79a3441eb864e8b5669d736d",
      "312bd455027b4c5594ee1679075516f0",
      "8bd5675d6fd74d808adcfefaefc198b1",
      "634fe635dd6f4941b275ccbd09e61e57",
      "38502c14034b418fa014c77437157f51",
      "442b470585684f60874d8fa9828e16ad",
      "9457723de557438887975bbfbbd204b0",
      "a4a707ca00334e889ca436adbbc2710b",
      "8f84b9b9b66f41268a9ea2b5083a496f",
      "a23caa18b0bd4f0c98bebbfce79356b9",
      "35b37e9c22e449428b963c498f8880e4",
      "62f85e21f890409b8a5e38ff785eda01",
      "c660ef9b40d14879bdb3e82ed0314847",
      "103f091eafce472cb867545e2a26cc15",
      "9fb35095a9a74f1aa408976d6743ca3f",
      "02b5e5ad49d54eba81ff6521574ff500",
      "66301f28fe574cfea13123805eaee7ab",
      "5bb5a246af1f4297b22581ca78ea1fea",
      "f8ea31a9753b491884ae0a851fe163c1",
      "3b8047887cda4fa58e83441a2fd5b5cf",
      "5d0af7a264f946849c086573811b3b29",
      "7a45a4ff70e64022bf975a02bff0724a",
      "f6de4137bd3e4d7ea5ef93ad8bf34eb4",
      "70801a2e5f384833be0ad22a0e4e9a21",
      "74d76fccb12d4b1a9d2460278aa080ec",
      "347e67b728a54bc08a833c09be1b0f60",
      "8b8d33ec1af44b6aaeefa1ec29c43030",
      "070106cad5bb4f67a6676bfe42a664b0",
      "44d23a9c45e64faa9ddfae3318fbee17",
      "9f1f98f3206f442c93b95613ecab0d5e",
      "661c4f8bb1a649bc85941227905d0b94",
      "2877a9fc70574c13a8f2fe839793bb8a",
      "f0782aeb31534c00bae8fe80a26d41a4",
      "2c37b5ec9e7e4f4aa9fd71b39c62dd78",
      "7ac7d0d8cda14abfa12abcf5f776ac39",
      "16cf86be6c8448518f53204913bec1d5",
      "ced8429935e8443db90ab3d1d8cdc3ec",
      "828cc4c2f5a44e90805df7e276cb274f",
      "262547de77ea43a485e02d109504ec2b",
      "2065830a9cca4a89bfdefec855c03423",
      "e301bb40ada449e7a4a549a19c84b8ef",
      "e41fcce567ba4a318f654ab8d03eb708",
      "d4997bc52dc6498292d88279b6fa04b7",
      "9eb363a3664442458cff4ea4cd7aecc4"
     ]
    },
    "id": "mSITauVwlh_R",
    "outputId": "ba8063e9-a832-4f0e-9b4e-894dec67fa1a"
   },
   "outputs": [
    {
     "name": "stderr",
     "output_type": "stream",
     "text": [
      "/usr/local/lib/python3.10/dist-packages/huggingface_hub/utils/_auth.py:94: UserWarning: \n",
      "The secret `HF_TOKEN` does not exist in your Colab secrets.\n",
      "To authenticate with the Hugging Face Hub, create a token in your settings tab (https://huggingface.co/settings/tokens), set it as secret in your Google Colab and restart your session.\n",
      "You will be able to reuse this secret in all of your notebooks.\n",
      "Please note that authentication is recommended but still optional to access public models or datasets.\n",
      "  warnings.warn(\n"
     ]
    },
    {
     "data": {
      "application/vnd.jupyter.widget-view+json": {
       "model_id": "a5cfa69c79a3441eb864e8b5669d736d",
       "version_major": 2,
       "version_minor": 0
      },
      "text/plain": [
       "tokenizer_config.json:   0%|          | 0.00/48.0 [00:00<?, ?B/s]"
      ]
     },
     "metadata": {},
     "output_type": "display_data"
    },
    {
     "data": {
      "application/vnd.jupyter.widget-view+json": {
       "model_id": "62f85e21f890409b8a5e38ff785eda01",
       "version_major": 2,
       "version_minor": 0
      },
      "text/plain": [
       "config.json:   0%|          | 0.00/570 [00:00<?, ?B/s]"
      ]
     },
     "metadata": {},
     "output_type": "display_data"
    },
    {
     "data": {
      "application/vnd.jupyter.widget-view+json": {
       "model_id": "f6de4137bd3e4d7ea5ef93ad8bf34eb4",
       "version_major": 2,
       "version_minor": 0
      },
      "text/plain": [
       "vocab.txt:   0%|          | 0.00/232k [00:00<?, ?B/s]"
      ]
     },
     "metadata": {},
     "output_type": "display_data"
    },
    {
     "data": {
      "application/vnd.jupyter.widget-view+json": {
       "model_id": "2c37b5ec9e7e4f4aa9fd71b39c62dd78",
       "version_major": 2,
       "version_minor": 0
      },
      "text/plain": [
       "tokenizer.json:   0%|          | 0.00/466k [00:00<?, ?B/s]"
      ]
     },
     "metadata": {},
     "output_type": "display_data"
    }
   ],
   "source": [
    "from transformers import AutoTokenizer\n",
    "\n",
    "# Initialize tokenizer - using BERT base\n",
    "tokenizer = AutoTokenizer.from_pretrained('bert-base-uncased')"
   ]
  },
  {
   "cell_type": "code",
   "execution_count": null,
   "metadata": {
    "id": "GjYp7gImlh_R"
   },
   "outputs": [],
   "source": [
    "import torch\n",
    "from torch.utils.data import Dataset, DataLoader\n",
    "import numpy as np\n",
    "\n",
    "class TextDataset(Dataset):\n",
    "    def __init__(self, texts, labels, tokenizer, max_length=512):\n",
    "        self.texts = texts\n",
    "        self.labels = labels\n",
    "        self.tokenizer = tokenizer\n",
    "        self.max_length = max_length\n",
    "\n",
    "    def __len__(self):\n",
    "        return len(self.texts)\n",
    "\n",
    "    def __getitem__(self, idx):\n",
    "        text = str(self.texts[idx])\n",
    "        labels = self.labels[idx].astype(float)  # Convert to float for BCE loss\n",
    "\n",
    "        # Tokenize the text\n",
    "        encoding = self.tokenizer(\n",
    "            text,\n",
    "            add_special_tokens=True,\n",
    "            max_length=self.max_length,\n",
    "            padding='max_length',\n",
    "            truncation=True,\n",
    "            return_attention_mask=True,\n",
    "            return_tensors='pt'\n",
    "        )\n",
    "\n",
    "        return {\n",
    "            'input_ids': encoding['input_ids'].flatten(),\n",
    "            'attention_mask': encoding['attention_mask'].flatten(),\n",
    "            'labels': torch.FloatTensor(labels)\n",
    "        }"
   ]
  },
  {
   "cell_type": "code",
   "execution_count": null,
   "metadata": {
    "id": "gOAooJTylh_R"
   },
   "outputs": [],
   "source": [
    "def create_dataloaders(train_texts, train_labels,\n",
    "                      val_texts, val_labels,\n",
    "                      test_texts, test_labels,\n",
    "                      tokenizer, batch_size=16):\n",
    "    \"\"\"\n",
    "    Create DataLoader objects for train, validation, and test sets\n",
    "    \"\"\"\n",
    "    # Create datasets\n",
    "    train_dataset = TextDataset(train_texts, train_labels, tokenizer)\n",
    "    val_dataset = TextDataset(val_texts, val_labels, tokenizer)\n",
    "    test_dataset = TextDataset(test_texts, test_labels, tokenizer)\n",
    "\n",
    "    # Create dataloaders\n",
    "    train_loader = DataLoader(\n",
    "        train_dataset,\n",
    "        batch_size=batch_size,\n",
    "        shuffle=True,\n",
    "        num_workers=2\n",
    "    )\n",
    "\n",
    "    val_loader = DataLoader(\n",
    "        val_dataset,\n",
    "        batch_size=batch_size,\n",
    "        shuffle=False,\n",
    "        num_workers=2\n",
    "    )\n",
    "\n",
    "    test_loader = DataLoader(\n",
    "        test_dataset,\n",
    "        batch_size=batch_size,\n",
    "        shuffle=False,\n",
    "        num_workers=2\n",
    "    )\n",
    "\n",
    "    return train_loader, val_loader, test_loader"
   ]
  },
  {
   "cell_type": "code",
   "execution_count": null,
   "metadata": {
    "id": "VfcDdf2ylh_R"
   },
   "outputs": [],
   "source": [
    "# Calculate class weights for balanced loss\n",
    "def calculate_class_weights(labels):\n",
    "    \"\"\"\n",
    "    Calculate class weights for imbalanced dataset\n",
    "    \"\"\"\n",
    "    pos_counts = np.sum(labels, axis=0)\n",
    "    neg_counts = len(labels) - pos_counts\n",
    "    pos_weights = neg_counts / pos_counts  # ratio of negative to positive samples\n",
    "    return torch.FloatTensor(pos_weights)"
   ]
  },
  {
   "cell_type": "code",
   "execution_count": null,
   "metadata": {
    "id": "fUjp4jaTlh_S"
   },
   "outputs": [],
   "source": [
    "# Create the dataloaders\n",
    "train_loader, val_loader, test_loader = create_dataloaders(\n",
    "    passages_train, labels_train,\n",
    "    passages_dev, labels_dev,\n",
    "    passages_test, labels_test,\n",
    "    tokenizer, BATCH_SIZE\n",
    ")"
   ]
  },
  {
   "cell_type": "code",
   "execution_count": null,
   "metadata": {
    "id": "OwKilPb5lh_S"
   },
   "outputs": [],
   "source": [
    "# Calculate class weights for loss function\n",
    "class_weights = calculate_class_weights(labels_train)"
   ]
  },
  {
   "cell_type": "code",
   "execution_count": null,
   "metadata": {
    "colab": {
     "base_uri": "https://localhost:8080/"
    },
    "id": "VW8PihJplh_S",
    "outputId": "4579a374-1bc1-4bb8-8c98-79bed2f1453e"
   },
   "outputs": [
    {
     "name": "stdout",
     "output_type": "stream",
     "text": [
      "Batch size: 64\n",
      "Number of training batches: 102\n",
      "Number of validation batches: 12\n",
      "Number of test batches: 29\n",
      "\n",
      "Batch shapes:\n",
      "input_ids: torch.Size([64, 512])\n",
      "attention_mask: torch.Size([64, 512])\n",
      "labels: torch.Size([64, 10])\n",
      "\n",
      "Class weights:\n",
      "tensor([1.8609, 5.1132, 4.8326, 7.3721, 5.4350, 5.5257, 7.0397, 3.0099, 3.1806,\n",
      "        3.9503])\n"
     ]
    }
   ],
   "source": [
    "# Print some statistics about the data\n",
    "print(f\"Batch size: {BATCH_SIZE}\")\n",
    "print(f\"Number of training batches: {len(train_loader)}\")\n",
    "print(f\"Number of validation batches: {len(val_loader)}\")\n",
    "print(f\"Number of test batches: {len(test_loader)}\")\n",
    "\n",
    "# Check the shape of a batch\n",
    "batch = next(iter(train_loader))\n",
    "print(\"\\nBatch shapes:\")\n",
    "for k, v in batch.items():\n",
    "    print(f\"{k}: {v.shape}\")\n",
    "\n",
    "# Print class weights\n",
    "print(\"\\nClass weights:\")\n",
    "print(class_weights)"
   ]
  },
  {
   "cell_type": "code",
   "execution_count": null,
   "metadata": {
    "colab": {
     "base_uri": "https://localhost:8080/"
    },
    "id": "47Fkj5k8lh_S",
    "outputId": "4f4cab5a-a751-4ef5-d400-ac2871a056cf"
   },
   "outputs": [
    {
     "name": "stdout",
     "output_type": "stream",
     "text": [
      "Label Distribution:\n",
      "   Label  Count  Percentage    Weight\n",
      "0    CON   2265   34.953704  1.860927\n",
      "7   PRAC   1616   24.938272  3.009901\n",
      "8    PRO   1550   23.919753  3.180645\n",
      "9    UNC   1309   20.200617  3.950344\n",
      "2    ETH   1111   17.145062  4.832583\n",
      "1   EPIS   1060   16.358025  5.113207\n",
      "4  INTER   1007   15.540123  5.434955\n",
      "5   MATH    993   15.324074  5.525680\n",
      "6   META    806   12.438272  7.039702\n",
      "3    HIS    774   11.944444  7.372093\n",
      "\n",
      "Average labels per example: 1.93\n"
     ]
    }
   ],
   "source": [
    "# Analyze label distribution\n",
    "label_names = mlb.classes_\n",
    "label_counts = labels_train.sum(axis=0)\n",
    "label_distribution = pd.DataFrame({\n",
    "    'Label': label_names,\n",
    "    'Count': label_counts,\n",
    "    'Percentage': (label_counts / len(labels_train)) * 100,\n",
    "    'Weight': class_weights.numpy()\n",
    "})\n",
    "\n",
    "print(\"Label Distribution:\")\n",
    "print(label_distribution.sort_values('Count', ascending=False))\n",
    "\n",
    "# Calculate average labels per example\n",
    "avg_labels = np.mean(labels_train.sum(axis=1))\n",
    "print(f\"\\nAverage labels per example: {avg_labels:.2f}\")"
   ]
  },
  {
   "cell_type": "markdown",
   "metadata": {
    "id": "8khIm-Qhlh_S"
   },
   "source": [
    "## Model setup"
   ]
  },
  {
   "cell_type": "code",
   "execution_count": null,
   "metadata": {
    "id": "UsRI3bJ7h-z3"
   },
   "outputs": [],
   "source": [
    "import torch\n",
    "import torch.nn as nn\n",
    "from transformers import AutoModel, AutoConfig\n",
    "from torch.nn.utils.parametrizations import weight_norm\n",
    "from torch.optim.lr_scheduler import CyclicLR\n",
    "from torch.nn import functional as F"
   ]
  },
  {
   "cell_type": "code",
   "execution_count": null,
   "metadata": {
    "id": "PB1uUUYqh89y"
   },
   "outputs": [],
   "source": [
    "class AttentionPooling(nn.Module):\n",
    "    def __init__(self, hidden_size):\n",
    "        super().__init__()\n",
    "        self.attention = nn.Linear(hidden_size, 1)\n",
    "\n",
    "    def forward(self, hidden_states, attention_mask):\n",
    "        # Convert attention mask to float for masked_fill\n",
    "        attention_weights = self.attention(hidden_states).squeeze(-1)\n",
    "        attention_weights = attention_weights.masked_fill(~attention_mask.bool(), float('-inf'))\n",
    "        attention_weights = F.softmax(attention_weights, dim=1)\n",
    "        return torch.bmm(attention_weights.unsqueeze(1), hidden_states).squeeze(1)"
   ]
  },
  {
   "cell_type": "code",
   "execution_count": null,
   "metadata": {
    "id": "A8or2sbhiAjr"
   },
   "outputs": [],
   "source": [
    "class FocalLoss(nn.Module):\n",
    "    def __init__(self, gamma=2.0, alpha=None):\n",
    "        super().__init__()\n",
    "        self.gamma = gamma\n",
    "        self.alpha = alpha  # Class weights if needed\n",
    "\n",
    "    def forward(self, inputs, targets):\n",
    "        ce_loss = F.binary_cross_entropy_with_logits(inputs, targets, reduction='none')\n",
    "        pt = torch.exp(-ce_loss)\n",
    "        focal_term = (1 - pt) ** self.gamma\n",
    "\n",
    "        if self.alpha is not None:\n",
    "            alpha_t = self.alpha[targets.data.view(-1).long()].view_as(targets)\n",
    "            focal_term = alpha_t * focal_term\n",
    "\n",
    "        return (focal_term * ce_loss).mean()"
   ]
  },
  {
   "cell_type": "code",
   "execution_count": null,
   "metadata": {
    "id": "OQXMFvZplh_S"
   },
   "outputs": [],
   "source": [
    "class CombinedBERTClassifier(nn.Module):\n",
    "    def __init__(self, model_name='bert-base-uncased', num_labels=10):\n",
    "        super().__init__()\n",
    "        self.bert = AutoModel.from_pretrained(model_name)\n",
    "        self.attention_pooler = AttentionPooling(self.bert.config.hidden_size)\n",
    "\n",
    "        # Multiple dropout layers\n",
    "        self.dropout1 = nn.Dropout(0.1)\n",
    "        self.dropout2 = nn.Dropout(0.2)\n",
    "        self.dropout3 = nn.Dropout(0.3)\n",
    "\n",
    "        self.classifier = nn.Sequential(\n",
    "            nn.Linear(self.bert.config.hidden_size, self.bert.config.hidden_size),\n",
    "            nn.LayerNorm(self.bert.config.hidden_size),\n",
    "            self.dropout1,\n",
    "            nn.ReLU(),\n",
    "            nn.Linear(self.bert.config.hidden_size, self.bert.config.hidden_size // 2),\n",
    "            nn.LayerNorm(self.bert.config.hidden_size // 2),\n",
    "            self.dropout2,\n",
    "            nn.ReLU(),\n",
    "            self.dropout3,\n",
    "            nn.Linear(self.bert.config.hidden_size // 2, num_labels)\n",
    "        )\n",
    "\n",
    "    def forward(self, input_ids, attention_mask):\n",
    "        outputs = self.bert(input_ids=input_ids, attention_mask=attention_mask)\n",
    "        pooled = self.attention_pooler(outputs.last_hidden_state, attention_mask)\n",
    "        return self.classifier(pooled)"
   ]
  },
  {
   "cell_type": "code",
   "execution_count": null,
   "metadata": {
    "colab": {
     "base_uri": "https://localhost:8080/",
     "height": 49,
     "referenced_widgets": [
      "556358fdea7a454d94a8101a3e03d256",
      "23431e32efcf4658bda8b88f909dc39d",
      "b4c12ae2f089417094559e9f44853f90",
      "af8e4e7a105f486b9968561ae8306520",
      "22d7524b7eaa4c5094b52e087e2fd46b",
      "ffcafdddeeb343bea0daf254581a2b68",
      "3cc44adf35c946a5919a6f4c7f6e0424",
      "99cd949929c84c8b9c820f3d98b6ecf5",
      "5ddb102cf03f483385d512a48968326c",
      "7330738862bd44559f956daab1dc1d60",
      "6c2b1aed56234748ba4d8e0acb0b0fc2"
     ]
    },
    "id": "1ckny79flh_S",
    "outputId": "10dff1e1-0d17-402d-fc13-6477d839de27"
   },
   "outputs": [
    {
     "data": {
      "application/vnd.jupyter.widget-view+json": {
       "model_id": "556358fdea7a454d94a8101a3e03d256",
       "version_major": 2,
       "version_minor": 0
      },
      "text/plain": [
       "model.safetensors:   0%|          | 0.00/440M [00:00<?, ?B/s]"
      ]
     },
     "metadata": {},
     "output_type": "display_data"
    }
   ],
   "source": [
    "# Initialize model\n",
    "model = CombinedBERTClassifier(num_labels=len(label_names))"
   ]
  },
  {
   "cell_type": "code",
   "execution_count": null,
   "metadata": {
    "id": "mk1WrFXIlh_S"
   },
   "outputs": [],
   "source": [
    "# Move model to GPU if available\n",
    "device = torch.device('cuda' if torch.cuda.is_available() else 'cpu')\n",
    "model = model.to(device)"
   ]
  },
  {
   "cell_type": "markdown",
   "metadata": {
    "id": "qGo1xbS4lh_T"
   },
   "source": [
    "## Training"
   ]
  },
  {
   "cell_type": "code",
   "execution_count": null,
   "metadata": {
    "id": "V8FVINQLn1OB"
   },
   "outputs": [],
   "source": [
    "# Clear GPU cache\n",
    "torch.cuda.empty_cache()"
   ]
  },
  {
   "cell_type": "code",
   "execution_count": null,
   "metadata": {
    "id": "nD1UPq26Fkqj"
   },
   "outputs": [],
   "source": [
    "from tqdm import tqdm\n",
    "from sklearn.metrics import f1_score, precision_score, recall_score, classification_report\n",
    "import matplotlib.pyplot as plt\n",
    "import seaborn as sns\n",
    "from datetime import datetime\n",
    "import json"
   ]
  },
  {
   "cell_type": "code",
   "execution_count": null,
   "metadata": {
    "id": "RoPdlY07lh_T"
   },
   "outputs": [],
   "source": [
    "class EarlyStopping:\n",
    "    def __init__(self, patience=3, min_delta=0, maximize=True):\n",
    "        self.patience = patience\n",
    "        self.min_delta = min_delta\n",
    "        self.maximize = maximize\n",
    "        self.counter = 0\n",
    "        self.best_score = None\n",
    "        self.early_stop = False\n",
    "\n",
    "    def __call__(self, score):\n",
    "        if self.best_score is None:\n",
    "            self.best_score = score\n",
    "            return False\n",
    "\n",
    "        if self.maximize:\n",
    "            if score < self.best_score + self.min_delta:\n",
    "                self.counter += 1\n",
    "                if self.counter >= self.patience:\n",
    "                    self.early_stop = True\n",
    "            else:\n",
    "                self.best_score = score\n",
    "                self.counter = 0\n",
    "        else:\n",
    "            if score > self.best_score - self.min_delta:\n",
    "                self.counter += 1\n",
    "                if self.counter >= self.patience:\n",
    "                    self.early_stop = True\n",
    "            else:\n",
    "                self.best_score = score\n",
    "                self.counter = 0\n",
    "\n",
    "        return self.early_stop"
   ]
  },
  {
   "cell_type": "code",
   "execution_count": null,
   "metadata": {
    "id": "6baDdfASEUvC"
   },
   "outputs": [],
   "source": [
    "class ThresholdOptimizer:\n",
    "    def __init__(self, num_labels, initial_thresholds):\n",
    "        self.num_labels = num_labels\n",
    "        self.current_thresholds = initial_thresholds\n",
    "        self.min_threshold = 0.3\n",
    "        self.max_threshold = 0.9\n",
    "        self.steps = 100\n",
    "\n",
    "    def adjust_thresholds(self, probs, labels):\n",
    "        best_thresholds = self.current_thresholds.copy()\n",
    "\n",
    "        for i in range(self.num_labels):\n",
    "            best_f1 = 0\n",
    "            for threshold in np.linspace(self.min_threshold, self.max_threshold, self.steps):\n",
    "                preds = (probs[:, i] >= threshold).astype(int)\n",
    "                f1 = f1_score(labels[:, i], preds)\n",
    "\n",
    "                if f1 > best_f1:\n",
    "                    best_f1 = f1\n",
    "                    best_thresholds[i] = threshold\n",
    "\n",
    "        self.current_thresholds = best_thresholds\n",
    "        return best_thresholds"
   ]
  },
  {
   "cell_type": "code",
   "execution_count": null,
   "metadata": {
    "id": "b7uVkqG0lisP"
   },
   "outputs": [],
   "source": [
    "def create_optimized_training(model, train_loader, val_loader, num_epochs=10):\n",
    "    # Initialize components\n",
    "    criterion = FocalLoss(gamma=2.0)\n",
    "    optimizer = torch.optim.AdamW(model.parameters(), lr=1e-5)\n",
    "\n",
    "    # Cyclic learning rate\n",
    "    scheduler = CyclicLR(\n",
    "        optimizer,\n",
    "        base_lr=1e-5,\n",
    "        max_lr=3e-5,\n",
    "        step_size_up=len(train_loader) * 2,\n",
    "        cycle_momentum=False\n",
    "    )\n",
    "\n",
    "    # Initialize threshold optimizer\n",
    "    threshold_optimizer = ThresholdOptimizer(\n",
    "        num_labels=model.classifier[-1].out_features,\n",
    "        initial_thresholds=[0.5] * model.classifier[-1].out_features\n",
    "    )\n",
    "\n",
    "    return criterion, optimizer, scheduler, threshold_optimizer"
   ]
  },
  {
   "cell_type": "code",
   "execution_count": null,
   "metadata": {
    "id": "wDDF1Q5VoBVx"
   },
   "outputs": [],
   "source": [
    "# Create training components\n",
    "criterion, optimizer, scheduler, threshold_optimizer = create_optimized_training(\n",
    "    model, train_loader, val_loader\n",
    ")"
   ]
  },
  {
   "cell_type": "code",
   "execution_count": null,
   "metadata": {
    "id": "DgMn4YqOFvG2"
   },
   "outputs": [],
   "source": [
    "def train_model(model, train_loader, val_loader, test_loader, criterion, optimizer,\n",
    "                device, label_names, num_epochs=10, patience=3):\n",
    "    threshold_optimizer = ThresholdOptimizer(len(label_names), label_names)\n",
    "    early_stopping = EarlyStopping(patience=patience, maximize=True)\n",
    "\n",
    "    history = {\n",
    "        'train_metrics': [],\n",
    "        'val_metrics': [],\n",
    "        'thresholds': [],\n",
    "        'best_epoch': 0\n",
    "    }\n",
    "\n",
    "    best_val_f1 = 0\n",
    "    best_model_state = None\n",
    "    best_thresholds = None\n",
    "    best_threshold_metrics = None\n",
    "\n",
    "    for epoch in range(num_epochs):\n",
    "        print(f'\\nEpoch {epoch + 1}/{num_epochs}')\n",
    "\n",
    "        # Training\n",
    "        model.train()\n",
    "        train_loss = 0\n",
    "        train_probs = []\n",
    "        train_labels = []\n",
    "\n",
    "        for batch in tqdm(train_loader, desc='Training'):\n",
    "            input_ids = batch['input_ids'].to(device)\n",
    "            attention_mask = batch['attention_mask'].to(device)\n",
    "            labels = batch['labels'].to(device)\n",
    "\n",
    "            optimizer.zero_grad()\n",
    "            outputs = model(input_ids, attention_mask)\n",
    "            loss = criterion(outputs, labels)\n",
    "\n",
    "            loss.backward()\n",
    "            optimizer.step()\n",
    "\n",
    "            train_loss += loss.item()\n",
    "            probs = torch.sigmoid(outputs).detach().cpu().numpy()\n",
    "            train_probs.append(probs)\n",
    "            train_labels.append(labels.cpu().numpy())\n",
    "\n",
    "        train_probs = np.concatenate(train_probs)\n",
    "        train_labels = np.concatenate(train_labels)\n",
    "\n",
    "        # Validation\n",
    "        val_metrics, val_probs, val_labels = evaluate_epoch(\n",
    "            model, val_loader, criterion, device, threshold_optimizer.current_thresholds)\n",
    "\n",
    "        # Optimize thresholds\n",
    "        optimal_thresholds, threshold_metrics = threshold_optimizer.optimize(\n",
    "            val_probs, val_labels)\n",
    "\n",
    "        # Update history\n",
    "        train_metrics = {\n",
    "            'loss': train_loss / len(train_loader),\n",
    "            'f1_micro': f1_score(train_labels,\n",
    "                               (train_probs >= optimal_thresholds).astype(int),\n",
    "                               average='micro')\n",
    "        }\n",
    "\n",
    "        history['train_metrics'].append(train_metrics)\n",
    "        history['val_metrics'].append(val_metrics)\n",
    "        history['thresholds'].append(optimal_thresholds)\n",
    "\n",
    "        # Print metrics\n",
    "        print(f\"\\nTraining - Loss: {train_metrics['loss']:.4f}, F1: {train_metrics['f1_micro']:.4f}\")\n",
    "        print(f\"Validation - Loss: {val_metrics['loss']:.4f}, F1: {val_metrics['f1_micro']:.4f}\")\n",
    "\n",
    "        # Check for best model\n",
    "        if val_metrics['f1_micro'] > best_val_f1:\n",
    "            best_val_f1 = val_metrics['f1_micro']\n",
    "            best_model_state = model.state_dict().copy()\n",
    "            best_thresholds = optimal_thresholds.copy()\n",
    "            best_threshold_metrics = threshold_metrics\n",
    "            history['best_epoch'] = epoch\n",
    "            print(\"New best model saved!\")\n",
    "\n",
    "        # Early stopping check\n",
    "        if early_stopping(val_metrics['f1_micro']):\n",
    "            print(\"Early stopping triggered!\")\n",
    "            break\n",
    "\n",
    "    # Load best model and evaluate on test set\n",
    "    model.load_state_dict(best_model_state)\n",
    "    test_metrics, _, _ = evaluate_epoch(model, test_loader, criterion, device, best_thresholds)\n",
    "\n",
    "    # Save results\n",
    "    results_file = save_results(\n",
    "        history, best_thresholds, best_threshold_metrics, test_metrics, label_names)\n",
    "\n",
    "    return model, history, best_thresholds, results_file"
   ]
  },
  {
   "cell_type": "code",
   "execution_count": null,
   "metadata": {
    "id": "dySVcqo6Fx5v"
   },
   "outputs": [],
   "source": [
    "def evaluate_epoch(model, val_loader, criterion, device, thresholds):\n",
    "    \"\"\"\n",
    "    Evaluate model on validation set during training\n",
    "    \"\"\"\n",
    "    model.eval()\n",
    "    total_loss = 0\n",
    "    all_probs = []\n",
    "    all_labels = []\n",
    "\n",
    "    # Convert thresholds to float numpy array\n",
    "    thresholds = np.array(thresholds, dtype=np.float32)\n",
    "\n",
    "    with torch.no_grad():\n",
    "        for batch in tqdm(val_loader, desc='Evaluating'):\n",
    "            input_ids = batch['input_ids'].to(device)\n",
    "            attention_mask = batch['attention_mask'].to(device)\n",
    "            labels = batch['labels'].to(device)\n",
    "\n",
    "            outputs = model(input_ids, attention_mask)\n",
    "            loss = criterion(outputs, labels)\n",
    "\n",
    "            total_loss += loss.item()\n",
    "            probs = torch.sigmoid(outputs).cpu().numpy()\n",
    "\n",
    "            # Apply thresholds\n",
    "            preds = np.zeros_like(probs)\n",
    "            for i, threshold in enumerate(thresholds):\n",
    "                preds[:, i] = (probs[:, i] >= threshold).astype(int)\n",
    "\n",
    "            all_probs.append(probs)\n",
    "            all_labels.append(labels.cpu().numpy())\n",
    "\n",
    "    all_probs = np.concatenate(all_probs)\n",
    "    all_labels = np.concatenate(all_labels)\n",
    "\n",
    "    # Calculate metrics\n",
    "    metrics = {\n",
    "        'loss': total_loss / len(val_loader),\n",
    "        'f1_micro': f1_score(all_labels, (all_probs >= thresholds).astype(int), average='micro'),\n",
    "        'f1_macro': f1_score(all_labels, (all_probs >= thresholds).astype(int), average='macro')\n",
    "    }\n",
    "\n",
    "    return metrics, all_probs, all_labels"
   ]
  },
  {
   "cell_type": "code",
   "execution_count": null,
   "metadata": {
    "id": "Q2KIXLgMF0n6"
   },
   "outputs": [],
   "source": [
    "def save_results(history, best_thresholds, threshold_metrics, test_metrics, label_names):\n",
    "    timestamp = datetime.now().strftime(\"%Y%m%d_%H%M%S\")\n",
    "    results = {\n",
    "        'history': history,\n",
    "        'best_thresholds': {label: float(thresh)\n",
    "                           for label, thresh in zip(label_names, best_thresholds)},\n",
    "        'threshold_metrics': threshold_metrics,\n",
    "        'test_metrics': test_metrics,\n",
    "        'timestamp': timestamp\n",
    "    }\n",
    "\n",
    "    with open(f'training_results_{timestamp}.json', 'w') as f:\n",
    "        json.dump(results, f, indent=4)\n",
    "\n",
    "    return f'training_results_{timestamp}.json'"
   ]
  },
  {
   "cell_type": "code",
   "execution_count": null,
   "metadata": {
    "colab": {
     "base_uri": "https://localhost:8080/",
     "height": 436
    },
    "id": "fp_xt1_JGCjk",
    "outputId": "38eadeb8-f817-4fcf-e155-1c72db17d7b4"
   },
   "outputs": [
    {
     "name": "stdout",
     "output_type": "stream",
     "text": [
      "\n",
      "Epoch 1/10\n"
     ]
    },
    {
     "name": "stderr",
     "output_type": "stream",
     "text": [
      "Training: 100%|██████████| 102/102 [01:56<00:00,  1.14s/it]\n"
     ]
    },
    {
     "ename": "ValueError",
     "evalue": "could not convert string to float: 'CON'",
     "output_type": "error",
     "traceback": [
      "\u001b[0;31m---------------------------------------------------------------------------\u001b[0m",
      "\u001b[0;31mValueError\u001b[0m                                Traceback (most recent call last)",
      "\u001b[0;32m<ipython-input-34-03baa1aee1ae>\u001b[0m in \u001b[0;36m<cell line: 2>\u001b[0;34m()\u001b[0m\n\u001b[1;32m      1\u001b[0m \u001b[0;31m# Train\u001b[0m\u001b[0;34m\u001b[0m\u001b[0;34m\u001b[0m\u001b[0m\n\u001b[0;32m----> 2\u001b[0;31m model, history, best_thresholds, results_file = train_model(\n\u001b[0m\u001b[1;32m      3\u001b[0m     \u001b[0mmodel\u001b[0m\u001b[0;34m=\u001b[0m\u001b[0mmodel\u001b[0m\u001b[0;34m,\u001b[0m\u001b[0;34m\u001b[0m\u001b[0;34m\u001b[0m\u001b[0m\n\u001b[1;32m      4\u001b[0m     \u001b[0mtrain_loader\u001b[0m\u001b[0;34m=\u001b[0m\u001b[0mtrain_loader\u001b[0m\u001b[0;34m,\u001b[0m\u001b[0;34m\u001b[0m\u001b[0;34m\u001b[0m\u001b[0m\n\u001b[1;32m      5\u001b[0m     \u001b[0mval_loader\u001b[0m\u001b[0;34m=\u001b[0m\u001b[0mval_loader\u001b[0m\u001b[0;34m,\u001b[0m\u001b[0;34m\u001b[0m\u001b[0;34m\u001b[0m\u001b[0m\n",
      "\u001b[0;32m<ipython-input-31-1a0e14a85af6>\u001b[0m in \u001b[0;36mtrain_model\u001b[0;34m(model, train_loader, val_loader, test_loader, criterion, optimizer, device, label_names, num_epochs, patience)\u001b[0m\n\u001b[1;32m     46\u001b[0m \u001b[0;34m\u001b[0m\u001b[0m\n\u001b[1;32m     47\u001b[0m         \u001b[0;31m# Validation\u001b[0m\u001b[0;34m\u001b[0m\u001b[0;34m\u001b[0m\u001b[0m\n\u001b[0;32m---> 48\u001b[0;31m         val_metrics, val_probs, val_labels = evaluate_epoch(\n\u001b[0m\u001b[1;32m     49\u001b[0m             model, val_loader, criterion, device, threshold_optimizer.current_thresholds)\n\u001b[1;32m     50\u001b[0m \u001b[0;34m\u001b[0m\u001b[0m\n",
      "\u001b[0;32m<ipython-input-32-d9f3b873a900>\u001b[0m in \u001b[0;36mevaluate_epoch\u001b[0;34m(model, val_loader, criterion, device, thresholds)\u001b[0m\n\u001b[1;32m      9\u001b[0m \u001b[0;34m\u001b[0m\u001b[0m\n\u001b[1;32m     10\u001b[0m     \u001b[0;31m# Convert thresholds to float numpy array\u001b[0m\u001b[0;34m\u001b[0m\u001b[0;34m\u001b[0m\u001b[0m\n\u001b[0;32m---> 11\u001b[0;31m     \u001b[0mthresholds\u001b[0m \u001b[0;34m=\u001b[0m \u001b[0mnp\u001b[0m\u001b[0;34m.\u001b[0m\u001b[0marray\u001b[0m\u001b[0;34m(\u001b[0m\u001b[0mthresholds\u001b[0m\u001b[0;34m,\u001b[0m \u001b[0mdtype\u001b[0m\u001b[0;34m=\u001b[0m\u001b[0mnp\u001b[0m\u001b[0;34m.\u001b[0m\u001b[0mfloat32\u001b[0m\u001b[0;34m)\u001b[0m\u001b[0;34m\u001b[0m\u001b[0;34m\u001b[0m\u001b[0m\n\u001b[0m\u001b[1;32m     12\u001b[0m \u001b[0;34m\u001b[0m\u001b[0m\n\u001b[1;32m     13\u001b[0m     \u001b[0;32mwith\u001b[0m \u001b[0mtorch\u001b[0m\u001b[0;34m.\u001b[0m\u001b[0mno_grad\u001b[0m\u001b[0;34m(\u001b[0m\u001b[0;34m)\u001b[0m\u001b[0;34m:\u001b[0m\u001b[0;34m\u001b[0m\u001b[0;34m\u001b[0m\u001b[0m\n",
      "\u001b[0;31mValueError\u001b[0m: could not convert string to float: 'CON'"
     ]
    }
   ],
   "source": [
    "# Train\n",
    "model, history, best_thresholds, results_file = train_model(\n",
    "    model=model,\n",
    "    train_loader=train_loader,\n",
    "    val_loader=val_loader,\n",
    "    test_loader=test_loader,\n",
    "    criterion=FocalLoss(gamma=2.0),\n",
    "    optimizer=torch.optim.AdamW(model.parameters(), lr=2e-5),\n",
    "    device=device,\n",
    "    label_names=label_names\n",
    ")"
   ]
  },
  {
   "cell_type": "markdown",
   "metadata": {
    "id": "7Ve-b_b2lh_U"
   },
   "source": [
    "## Evaluation"
   ]
  },
  {
   "cell_type": "code",
   "execution_count": null,
   "metadata": {
    "id": "jGjhAr3HG_N5"
   },
   "outputs": [],
   "source": [
    "def analyze_predictions(model, data_loader, optimal_thresholds, device, label_names):\n",
    "    \"\"\"\n",
    "    Comprehensive model evaluation using optimal thresholds\n",
    "    \"\"\"\n",
    "    model.eval()\n",
    "    all_probs = []\n",
    "    all_preds = []\n",
    "    all_labels = []\n",
    "\n",
    "    # Collect predictions\n",
    "    with torch.no_grad():\n",
    "        for batch in tqdm(data_loader, desc='Evaluating'):\n",
    "            input_ids = batch['input_ids'].to(device)\n",
    "            attention_mask = batch['attention_mask'].to(device)\n",
    "            labels = batch['labels'].cpu().numpy()\n",
    "\n",
    "            # Get model outputs\n",
    "            outputs = model(input_ids, attention_mask)\n",
    "            probs = torch.sigmoid(outputs).cpu().numpy()\n",
    "\n",
    "            # Apply optimal thresholds for each class\n",
    "            preds = np.zeros_like(probs)\n",
    "            for i, threshold in enumerate(optimal_thresholds):\n",
    "                preds[:, i] = (probs[:, i] >= threshold).astype(int)\n",
    "\n",
    "            all_probs.append(probs)\n",
    "            all_preds.append(preds)\n",
    "            all_labels.append(labels)\n",
    "\n",
    "    # Concatenate all batches\n",
    "    all_probs = np.concatenate(all_probs)\n",
    "    all_preds = np.concatenate(all_preds)\n",
    "    all_labels = np.concatenate(all_labels)\n",
    "\n",
    "    # Calculate overall metrics\n",
    "    overall_metrics = {\n",
    "        'micro_f1': f1_score(all_labels, all_preds, average='micro'),\n",
    "        'macro_f1': f1_score(all_labels, all_preds, average='macro'),\n",
    "        'weighted_f1': f1_score(all_labels, all_preds, average='weighted'),\n",
    "        'micro_precision': precision_score(all_labels, all_preds, average='micro'),\n",
    "        'micro_recall': recall_score(all_labels, all_preds, average='micro')\n",
    "    }\n",
    "\n",
    "    # Calculate per-class metrics\n",
    "    class_metrics = {}\n",
    "    for i, label in enumerate(label_names):\n",
    "        class_metrics[label] = {\n",
    "            'threshold': optimal_thresholds[i],\n",
    "            'precision': precision_score(all_labels[:, i], all_preds[:, i]),\n",
    "            'recall': recall_score(all_labels[:, i], all_preds[:, i]),\n",
    "            'f1': f1_score(all_labels[:, i], all_preds[:, i]),\n",
    "            'support': np.sum(all_labels[:, i])\n",
    "        }\n",
    "\n",
    "    # Analyze label co-occurrence\n",
    "    cooccurrence = np.zeros((len(label_names), len(label_names)))\n",
    "    for i in range(len(label_names)):\n",
    "        for j in range(len(label_names)):\n",
    "            if i != j:\n",
    "                cooccurrence[i,j] = np.sum((all_preds[:, i] == 1) & (all_preds[:, j] == 1))\n",
    "\n",
    "    # Calculate label distribution\n",
    "    label_counts = all_preds.sum(axis=0)\n",
    "    label_distribution = {label: int(count)\n",
    "                         for label, count in zip(label_names, label_counts)}\n",
    "\n",
    "    # Analyze prediction confidence\n",
    "    confidence_metrics = {}\n",
    "    for i, label in enumerate(label_names):\n",
    "        probs_for_label = all_probs[:, i]\n",
    "        confidence_metrics[label] = {\n",
    "            'mean_confidence': float(np.mean(probs_for_label)),\n",
    "            'median_confidence': float(np.median(probs_for_label)),\n",
    "            'std_confidence': float(np.std(probs_for_label))\n",
    "        }\n",
    "\n",
    "    # Compile all results\n",
    "    results = {\n",
    "        'overall_metrics': overall_metrics,\n",
    "        'class_metrics': class_metrics,\n",
    "        'label_distribution': label_distribution,\n",
    "        'confidence_metrics': confidence_metrics,\n",
    "        'cooccurrence_matrix': cooccurrence.tolist()\n",
    "    }\n",
    "\n",
    "    return results, all_probs, all_preds, all_labels"
   ]
  },
  {
   "cell_type": "code",
   "execution_count": null,
   "metadata": {
    "id": "HmhNbDT0HD7Z"
   },
   "outputs": [],
   "source": [
    "from tabulate import tabulate\n",
    "import matplotlib.pyplot as plt\n",
    "import matplotlib.gridspec as gridspec\n",
    "import seaborn as sns\n",
    "\n",
    "def generate_evaluation_report(results, label_names):\n",
    "    \"\"\"\n",
    "    Generate a detailed evaluation report\n",
    "    \"\"\"\n",
    "    print(\"\\n=== EVALUATION REPORT ===\\n\")\n",
    "\n",
    "    print(\"Overall Metrics:\")\n",
    "    for metric, value in results['overall_metrics'].items():\n",
    "        print(f\"{metric}: {value:.4f}\")\n",
    "\n",
    "    print(\"\\nPer-Class Performance:\")\n",
    "    rows = []\n",
    "    for label in label_names:\n",
    "        metrics = results['class_metrics'][label]\n",
    "        rows.append([\n",
    "            label,\n",
    "            f\"{metrics['threshold']:.3f}\",\n",
    "            f\"{metrics['precision']:.3f}\",\n",
    "            f\"{metrics['recall']:.3f}\",\n",
    "            f\"{metrics['f1']:.3f}\",\n",
    "            f\"{metrics['support']}\"\n",
    "        ])\n",
    "\n",
    "    headers = ['Label', 'Threshold', 'Precision', 'Recall', 'F1', 'Support']\n",
    "    print(\"\\n\" + tabulate(rows, headers=headers, tablefmt='pipe'))\n",
    "\n",
    "    print(\"\\nLabel Distribution:\")\n",
    "    for label, count in results['label_distribution'].items():\n",
    "        print(f\"{label}: {count}\")\n",
    "\n",
    "    print(\"\\nConfidence Analysis:\")\n",
    "    for label in label_names:\n",
    "        metrics = results['confidence_metrics'][label]\n",
    "        print(f\"\\n{label}:\")\n",
    "        print(f\"  Mean confidence: {metrics['mean_confidence']:.3f}\")\n",
    "        print(f\"  Median confidence: {metrics['median_confidence']:.3f}\")\n",
    "        print(f\"  Std confidence: {metrics['std_confidence']:.3f}\")"
   ]
  },
  {
   "cell_type": "code",
   "execution_count": null,
   "metadata": {
    "id": "vSN7NHzqHGky"
   },
   "outputs": [],
   "source": [
    "def plot_evaluation_results(results, label_names):\n",
    "    \"\"\"\n",
    "    Visualize evaluation results\n",
    "    \"\"\"\n",
    "    # Create figure with subplots\n",
    "    fig = plt.figure(figsize=(20, 15))\n",
    "    gs = gridspec.GridSpec(2, 2)\n",
    "\n",
    "    # 1. Per-class metrics\n",
    "    ax1 = fig.add_subplot(gs[0, 0])\n",
    "    metrics_df = pd.DataFrame({\n",
    "        label: [\n",
    "            results['class_metrics'][label]['precision'],\n",
    "            results['class_metrics'][label]['recall'],\n",
    "            results['class_metrics'][label]['f1']\n",
    "        ] for label in label_names\n",
    "    }, index=['Precision', 'Recall', 'F1'])\n",
    "\n",
    "    metrics_df.plot(kind='bar', ax=ax1)\n",
    "    ax1.set_title('Per-class Metrics')\n",
    "    ax1.set_xticklabels(ax1.get_xticklabels(), rotation=45)\n",
    "\n",
    "    # 2. Threshold distribution\n",
    "    ax2 = fig.add_subplot(gs[0, 1])\n",
    "    thresholds = [results['class_metrics'][label]['threshold'] for label in label_names]\n",
    "    ax2.bar(label_names, thresholds)\n",
    "    ax2.set_title('Optimal Thresholds by Class')\n",
    "    ax2.set_xticklabels(ax2.get_xticklabels(), rotation=45)\n",
    "\n",
    "    # 3. Label co-occurrence heatmap\n",
    "    ax3 = fig.add_subplot(gs[1, 0])\n",
    "    sns.heatmap(\n",
    "        results['cooccurrence_matrix'],\n",
    "        xticklabels=label_names,\n",
    "        yticklabels=label_names,\n",
    "        annot=True,\n",
    "        fmt='g',\n",
    "        ax=ax3\n",
    "    )\n",
    "    ax3.set_title('Label Co-occurrence Matrix')\n",
    "\n",
    "    # 4. Confidence distribution\n",
    "    ax4 = fig.add_subplot(gs[1, 1])\n",
    "    confidence_means = [results['confidence_metrics'][label]['mean_confidence']\n",
    "                       for label in label_names]\n",
    "    confidence_stds = [results['confidence_metrics'][label]['std_confidence']\n",
    "                      for label in label_names]\n",
    "    ax4.bar(label_names, confidence_means, yerr=confidence_stds)\n",
    "    ax4.set_title('Mean Prediction Confidence by Class')\n",
    "    ax4.set_xticklabels(ax4.get_xticklabels(), rotation=45)\n",
    "\n",
    "    plt.tight_layout()\n",
    "    plt.show()"
   ]
  },
  {
   "cell_type": "code",
   "execution_count": null,
   "metadata": {
    "id": "2ctasBrYHKUD"
   },
   "outputs": [],
   "source": [
    "def evaluate_and_analyze(model, test_loader, optimal_thresholds, device, label_names):\n",
    "    \"\"\"\n",
    "    Run complete evaluation and analysis\n",
    "    \"\"\"\n",
    "    # Get evaluation results\n",
    "    results, probs, preds, labels = analyze_predictions(\n",
    "        model, test_loader, optimal_thresholds, device, label_names\n",
    "    )\n",
    "\n",
    "    # Generate text report\n",
    "    generate_evaluation_report(results, label_names)\n",
    "\n",
    "    # Plot visualizations\n",
    "    plot_evaluation_results(results, label_names)\n",
    "\n",
    "    return results, probs, preds, labels"
   ]
  },
  {
   "cell_type": "code",
   "execution_count": null,
   "metadata": {
    "colab": {
     "base_uri": "https://localhost:8080/",
     "height": 1000
    },
    "id": "mqAEUBYWHLwl",
    "outputId": "8c361906-5e70-4727-ffbc-ee6de0d6d73f"
   },
   "outputs": [
    {
     "name": "stderr",
     "output_type": "stream",
     "text": [
      "Evaluating: 100%|██████████| 4/4 [00:10<00:00,  2.62s/it]\n"
     ]
    },
    {
     "name": "stdout",
     "output_type": "stream",
     "text": [
      "\n",
      "=== EVALUATION REPORT ===\n",
      "\n",
      "Overall Metrics:\n",
      "micro_f1: 0.7871\n",
      "macro_f1: 0.7937\n",
      "weighted_f1: 0.7886\n",
      "micro_precision: 0.7719\n",
      "micro_recall: 0.8029\n",
      "\n",
      "Per-Class Performance:\n",
      "\n",
      "| Label   |   Threshold |   Precision |   Recall |    F1 |   Support |\n",
      "|:--------|------------:|------------:|---------:|------:|----------:|\n",
      "| CON     |        0.7  |       0.766 |    0.767 | 0.766 |       665 |\n",
      "| EPIS    |        0.8  |       0.802 |    0.672 | 0.732 |       296 |\n",
      "| ETH     |        0.8  |       0.985 |    0.951 | 0.968 |       284 |\n",
      "| HIS     |        0.8  |       0.811 |    0.916 | 0.86  |       215 |\n",
      "| INTER   |        0.6  |       0.869 |    0.801 | 0.834 |       297 |\n",
      "| MATH    |        0.8  |       0.604 |    0.789 | 0.684 |       279 |\n",
      "| META    |        0.8  |       0.661 |    0.833 | 0.737 |       215 |\n",
      "| PRAC    |        0.55 |       0.756 |    0.836 | 0.794 |       434 |\n",
      "| PRO     |        0.8  |       0.678 |    0.689 | 0.683 |       421 |\n",
      "| UNC     |        0.6  |       0.881 |    0.876 | 0.879 |       380 |\n",
      "\n",
      "Label Distribution:\n",
      "CON: 666\n",
      "EPIS: 248\n",
      "ETH: 274\n",
      "HIS: 243\n",
      "INTER: 274\n",
      "MATH: 364\n",
      "META: 271\n",
      "PRAC: 480\n",
      "PRO: 428\n",
      "UNC: 378\n",
      "\n",
      "Confidence Analysis:\n",
      "\n",
      "CON:\n",
      "  Mean confidence: 0.480\n",
      "  Median confidence: 0.507\n",
      "  Std confidence: 0.307\n",
      "\n",
      "EPIS:\n",
      "  Mean confidence: 0.377\n",
      "  Median confidence: 0.226\n",
      "  Std confidence: 0.295\n",
      "\n",
      "ETH:\n",
      "  Mean confidence: 0.272\n",
      "  Median confidence: 0.145\n",
      "  Std confidence: 0.302\n",
      "\n",
      "HIS:\n",
      "  Mean confidence: 0.269\n",
      "  Median confidence: 0.128\n",
      "  Std confidence: 0.305\n",
      "\n",
      "INTER:\n",
      "  Mean confidence: 0.309\n",
      "  Median confidence: 0.163\n",
      "  Std confidence: 0.275\n",
      "\n",
      "MATH:\n",
      "  Mean confidence: 0.373\n",
      "  Median confidence: 0.198\n",
      "  Std confidence: 0.315\n",
      "\n",
      "META:\n",
      "  Mean confidence: 0.297\n",
      "  Median confidence: 0.159\n",
      "  Std confidence: 0.297\n",
      "\n",
      "PRAC:\n",
      "  Mean confidence: 0.367\n",
      "  Median confidence: 0.215\n",
      "  Std confidence: 0.303\n",
      "\n",
      "PRO:\n",
      "  Mean confidence: 0.434\n",
      "  Median confidence: 0.273\n",
      "  Std confidence: 0.318\n",
      "\n",
      "UNC:\n",
      "  Mean confidence: 0.345\n",
      "  Median confidence: 0.180\n",
      "  Std confidence: 0.306\n"
     ]
    },
    {
     "name": "stderr",
     "output_type": "stream",
     "text": [
      "<ipython-input-74-6d93aff4c7a5>:28: UserWarning: set_ticklabels() should only be used with a fixed number of ticks, i.e. after set_ticks() or using a FixedLocator.\n",
      "  ax2.set_xticklabels(ax2.get_xticklabels(), rotation=45)\n",
      "<ipython-input-74-6d93aff4c7a5>:50: UserWarning: set_ticklabels() should only be used with a fixed number of ticks, i.e. after set_ticks() or using a FixedLocator.\n",
      "  ax4.set_xticklabels(ax4.get_xticklabels(), rotation=45)\n"
     ]
    },
    {
     "data": {
      "image/png": "[encoded data removed]",
      "text/plain": [
       "<Figure size 2000x1500 with 5 Axes>"
      ]
     },
     "metadata": {},
     "output_type": "display_data"
    }
   ],
   "source": [
    "evaluation_results, probs, preds, labels = evaluate_and_analyze(\n",
    "    model=model,\n",
    "    test_loader=test_loader,\n",
    "    optimal_thresholds=best_thresholds,\n",
    "    device=device,\n",
    "    label_names=label_names\n",
    ")"
   ]
  }
 ],
 "metadata": {
  "accelerator": "GPU",
  "colab": {
   "collapsed_sections": [
    "j8Yf7Fldmgq1",
    "TX0mCPorlh_P"
   ],
   "gpuType": "A100",
   "provenance": []
  },
  "kernelspec": {
   "display_name": "base",
   "language": "python",
   "name": "python3"
  },
  "language_info": {
   "codemirror_mode": {
    "name": "ipython",
    "version": 3
   },
   "file_extension": ".py",
   "mimetype": "text/x-python",
   "name": "python",
   "nbconvert_exporter": "python",
   "pygments_lexer": "ipython3",
   "version": "3.11.5"
  },
  "widgets": {
   "application/vnd.jupyter.widget-state+json": {
    "02b5e5ad49d54eba81ff6521574ff500": {
     "model_module": "@jupyter-widgets/base",
     "model_module_version": "1.2.0",
     "model_name": "LayoutModel",
     "state": {
      "_model_module": "@jupyter-widgets/base",
      "_model_module_version": "1.2.0",
      "_model_name": "LayoutModel",
      "_view_count": null,
      "_view_module": "@jupyter-widgets/base",
      "_view_module_version": "1.2.0",
      "_view_name": "LayoutView",
      "align_content": null,
      "align_items": null,
      "align_self": null,
      "border": null,
      "bottom": null,
      "display": null,
      "flex": null,
      "flex_flow": null,
      "grid_area": null,
      "grid_auto_columns": null,
      "grid_auto_flow": null,
      "grid_auto_rows": null,
      "grid_column": null,
      "grid_gap": null,
      "grid_row": null,
      "grid_template_areas": null,
      "grid_template_columns": null,
      "grid_template_rows": null,
      "height": null,
      "justify_content": null,
      "justify_items": null,
      "left": null,
      "margin": null,
      "max_height": null,
      "max_width": null,
      "min_height": null,
      "min_width": null,
      "object_fit": null,
      "object_position": null,
      "order": null,
      "overflow": null,
      "overflow_x": null,
      "overflow_y": null,
      "padding": null,
      "right": null,
      "top": null,
      "visibility": null,
      "width": null
     }
    },
    "070106cad5bb4f67a6676bfe42a664b0": {
     "model_module": "@jupyter-widgets/base",
     "model_module_version": "1.2.0",
     "model_name": "LayoutModel",
     "state": {
      "_model_module": "@jupyter-widgets/base",
      "_model_module_version": "1.2.0",
      "_model_name": "LayoutModel",
      "_view_count": null,
      "_view_module": "@jupyter-widgets/base",
      "_view_module_version": "1.2.0",
      "_view_name": "LayoutView",
      "align_content": null,
      "align_items": null,
      "align_self": null,
      "border": null,
      "bottom": null,
      "display": null,
      "flex": null,
      "flex_flow": null,
      "grid_area": null,
      "grid_auto_columns": null,
      "grid_auto_flow": null,
      "grid_auto_rows": null,
      "grid_column": null,
      "grid_gap": null,
      "grid_row": null,
      "grid_template_areas": null,
      "grid_template_columns": null,
      "grid_template_rows": null,
      "height": null,
      "justify_content": null,
      "justify_items": null,
      "left": null,
      "margin": null,
      "max_height": null,
      "max_width": null,
      "min_height": null,
      "min_width": null,
      "object_fit": null,
      "object_position": null,
      "order": null,
      "overflow": null,
      "overflow_x": null,
      "overflow_y": null,
      "padding": null,
      "right": null,
      "top": null,
      "visibility": null,
      "width": null
     }
    },
    "103f091eafce472cb867545e2a26cc15": {
     "model_module": "@jupyter-widgets/controls",
     "model_module_version": "1.5.0",
     "model_name": "FloatProgressModel",
     "state": {
      "_dom_classes": [],
      "_model_module": "@jupyter-widgets/controls",
      "_model_module_version": "1.5.0",
      "_model_name": "FloatProgressModel",
      "_view_count": null,
      "_view_module": "@jupyter-widgets/controls",
      "_view_module_version": "1.5.0",
      "_view_name": "ProgressView",
      "bar_style": "success",
      "description": "",
      "description_tooltip": null,
      "layout": "IPY_MODEL_f8ea31a9753b491884ae0a851fe163c1",
      "max": 570,
      "min": 0,
      "orientation": "horizontal",
      "style": "IPY_MODEL_3b8047887cda4fa58e83441a2fd5b5cf",
      "value": 570
     }
    },
    "16cf86be6c8448518f53204913bec1d5": {
     "model_module": "@jupyter-widgets/controls",
     "model_module_version": "1.5.0",
     "model_name": "FloatProgressModel",
     "state": {
      "_dom_classes": [],
      "_model_module": "@jupyter-widgets/controls",
      "_model_module_version": "1.5.0",
      "_model_name": "FloatProgressModel",
      "_view_count": null,
      "_view_module": "@jupyter-widgets/controls",
      "_view_module_version": "1.5.0",
      "_view_name": "ProgressView",
      "bar_style": "success",
      "description": "",
      "description_tooltip": null,
      "layout": "IPY_MODEL_e301bb40ada449e7a4a549a19c84b8ef",
      "max": 466062,
      "min": 0,
      "orientation": "horizontal",
      "style": "IPY_MODEL_e41fcce567ba4a318f654ab8d03eb708",
      "value": 466062
     }
    },
    "2065830a9cca4a89bfdefec855c03423": {
     "model_module": "@jupyter-widgets/controls",
     "model_module_version": "1.5.0",
     "model_name": "DescriptionStyleModel",
     "state": {
      "_model_module": "@jupyter-widgets/controls",
      "_model_module_version": "1.5.0",
      "_model_name": "DescriptionStyleModel",
      "_view_count": null,
      "_view_module": "@jupyter-widgets/base",
      "_view_module_version": "1.2.0",
      "_view_name": "StyleView",
      "description_width": ""
     }
    },
    "22d7524b7eaa4c5094b52e087e2fd46b": {
     "model_module": "@jupyter-widgets/base",
     "model_module_version": "1.2.0",
     "model_name": "LayoutModel",
     "state": {
      "_model_module": "@jupyter-widgets/base",
      "_model_module_version": "1.2.0",
      "_model_name": "LayoutModel",
      "_view_count": null,
      "_view_module": "@jupyter-widgets/base",
      "_view_module_version": "1.2.0",
      "_view_name": "LayoutView",
      "align_content": null,
      "align_items": null,
      "align_self": null,
      "border": null,
      "bottom": null,
      "display": null,
      "flex": null,
      "flex_flow": null,
      "grid_area": null,
      "grid_auto_columns": null,
      "grid_auto_flow": null,
      "grid_auto_rows": null,
      "grid_column": null,
      "grid_gap": null,
      "grid_row": null,
      "grid_template_areas": null,
      "grid_template_columns": null,
      "grid_template_rows": null,
      "height": null,
      "justify_content": null,
      "justify_items": null,
      "left": null,
      "margin": null,
      "max_height": null,
      "max_width": null,
      "min_height": null,
      "min_width": null,
      "object_fit": null,
      "object_position": null,
      "order": null,
      "overflow": null,
      "overflow_x": null,
      "overflow_y": null,
      "padding": null,
      "right": null,
      "top": null,
      "visibility": null,
      "width": null
     }
    },
    "23431e32efcf4658bda8b88f909dc39d": {
     "model_module": "@jupyter-widgets/controls",
     "model_module_version": "1.5.0",
     "model_name": "HTMLModel",
     "state": {
      "_dom_classes": [],
      "_model_module": "@jupyter-widgets/controls",
      "_model_module_version": "1.5.0",
      "_model_name": "HTMLModel",
      "_view_count": null,
      "_view_module": "@jupyter-widgets/controls",
      "_view_module_version": "1.5.0",
      "_view_name": "HTMLView",
      "description": "",
      "description_tooltip": null,
      "layout": "IPY_MODEL_ffcafdddeeb343bea0daf254581a2b68",
      "placeholder": "​",
      "style": "IPY_MODEL_3cc44adf35c946a5919a6f4c7f6e0424",
      "value": "model.safetensors: 100%"
     }
    },
    "262547de77ea43a485e02d109504ec2b": {
     "model_module": "@jupyter-widgets/base",
     "model_module_version": "1.2.0",
     "model_name": "LayoutModel",
     "state": {
      "_model_module": "@jupyter-widgets/base",
      "_model_module_version": "1.2.0",
      "_model_name": "LayoutModel",
      "_view_count": null,
      "_view_module": "@jupyter-widgets/base",
      "_view_module_version": "1.2.0",
      "_view_name": "LayoutView",
      "align_content": null,
      "align_items": null,
      "align_self": null,
      "border": null,
      "bottom": null,
      "display": null,
      "flex": null,
      "flex_flow": null,
      "grid_area": null,
      "grid_auto_columns": null,
      "grid_auto_flow": null,
      "grid_auto_rows": null,
      "grid_column": null,
      "grid_gap": null,
      "grid_row": null,
      "grid_template_areas": null,
      "grid_template_columns": null,
      "grid_template_rows": null,
      "height": null,
      "justify_content": null,
      "justify_items": null,
      "left": null,
      "margin": null,
      "max_height": null,
      "max_width": null,
      "min_height": null,
      "min_width": null,
      "object_fit": null,
      "object_position": null,
      "order": null,
      "overflow": null,
      "overflow_x": null,
      "overflow_y": null,
      "padding": null,
      "right": null,
      "top": null,
      "visibility": null,
      "width": null
     }
    },
    "2877a9fc70574c13a8f2fe839793bb8a": {
     "model_module": "@jupyter-widgets/base",
     "model_module_version": "1.2.0",
     "model_name": "LayoutModel",
     "state": {
      "_model_module": "@jupyter-widgets/base",
      "_model_module_version": "1.2.0",
      "_model_name": "LayoutModel",
      "_view_count": null,
      "_view_module": "@jupyter-widgets/base",
      "_view_module_version": "1.2.0",
      "_view_name": "LayoutView",
      "align_content": null,
      "align_items": null,
      "align_self": null,
      "border": null,
      "bottom": null,
      "display": null,
      "flex": null,
      "flex_flow": null,
      "grid_area": null,
      "grid_auto_columns": null,
      "grid_auto_flow": null,
      "grid_auto_rows": null,
      "grid_column": null,
      "grid_gap": null,
      "grid_row": null,
      "grid_template_areas": null,
      "grid_template_columns": null,
      "grid_template_rows": null,
      "height": null,
      "justify_content": null,
      "justify_items": null,
      "left": null,
      "margin": null,
      "max_height": null,
      "max_width": null,
      "min_height": null,
      "min_width": null,
      "object_fit": null,
      "object_position": null,
      "order": null,
      "overflow": null,
      "overflow_x": null,
      "overflow_y": null,
      "padding": null,
      "right": null,
      "top": null,
      "visibility": null,
      "width": null
     }
    },
    "2c37b5ec9e7e4f4aa9fd71b39c62dd78": {
     "model_module": "@jupyter-widgets/controls",
     "model_module_version": "1.5.0",
     "model_name": "HBoxModel",
     "state": {
      "_dom_classes": [],
      "_model_module": "@jupyter-widgets/controls",
      "_model_module_version": "1.5.0",
      "_model_name": "HBoxModel",
      "_view_count": null,
      "_view_module": "@jupyter-widgets/controls",
      "_view_module_version": "1.5.0",
      "_view_name": "HBoxView",
      "box_style": "",
      "children": [
       "IPY_MODEL_7ac7d0d8cda14abfa12abcf5f776ac39",
       "IPY_MODEL_16cf86be6c8448518f53204913bec1d5",
       "IPY_MODEL_ced8429935e8443db90ab3d1d8cdc3ec"
      ],
      "layout": "IPY_MODEL_828cc4c2f5a44e90805df7e276cb274f"
     }
    },
    "312bd455027b4c5594ee1679075516f0": {
     "model_module": "@jupyter-widgets/controls",
     "model_module_version": "1.5.0",
     "model_name": "HTMLModel",
     "state": {
      "_dom_classes": [],
      "_model_module": "@jupyter-widgets/controls",
      "_model_module_version": "1.5.0",
      "_model_name": "HTMLModel",
      "_view_count": null,
      "_view_module": "@jupyter-widgets/controls",
      "_view_module_version": "1.5.0",
      "_view_name": "HTMLView",
      "description": "",
      "description_tooltip": null,
      "layout": "IPY_MODEL_442b470585684f60874d8fa9828e16ad",
      "placeholder": "​",
      "style": "IPY_MODEL_9457723de557438887975bbfbbd204b0",
      "value": "tokenizer_config.json: 100%"
     }
    },
    "347e67b728a54bc08a833c09be1b0f60": {
     "model_module": "@jupyter-widgets/controls",
     "model_module_version": "1.5.0",
     "model_name": "HTMLModel",
     "state": {
      "_dom_classes": [],
      "_model_module": "@jupyter-widgets/controls",
      "_model_module_version": "1.5.0",
      "_model_name": "HTMLModel",
      "_view_count": null,
      "_view_module": "@jupyter-widgets/controls",
      "_view_module_version": "1.5.0",
      "_view_name": "HTMLView",
      "description": "",
      "description_tooltip": null,
      "layout": "IPY_MODEL_2877a9fc70574c13a8f2fe839793bb8a",
      "placeholder": "​",
      "style": "IPY_MODEL_f0782aeb31534c00bae8fe80a26d41a4",
      "value": " 232k/232k [00:00&lt;00:00, 5.02MB/s]"
     }
    },
    "35b37e9c22e449428b963c498f8880e4": {
     "model_module": "@jupyter-widgets/controls",
     "model_module_version": "1.5.0",
     "model_name": "DescriptionStyleModel",
     "state": {
      "_model_module": "@jupyter-widgets/controls",
      "_model_module_version": "1.5.0",
      "_model_name": "DescriptionStyleModel",
      "_view_count": null,
      "_view_module": "@jupyter-widgets/base",
      "_view_module_version": "1.2.0",
      "_view_name": "StyleView",
      "description_width": ""
     }
    },
    "38502c14034b418fa014c77437157f51": {
     "model_module": "@jupyter-widgets/base",
     "model_module_version": "1.2.0",
     "model_name": "LayoutModel",
     "state": {
      "_model_module": "@jupyter-widgets/base",
      "_model_module_version": "1.2.0",
      "_model_name": "LayoutModel",
      "_view_count": null,
      "_view_module": "@jupyter-widgets/base",
      "_view_module_version": "1.2.0",
      "_view_name": "LayoutView",
      "align_content": null,
      "align_items": null,
      "align_self": null,
      "border": null,
      "bottom": null,
      "display": null,
      "flex": null,
      "flex_flow": null,
      "grid_area": null,
      "grid_auto_columns": null,
      "grid_auto_flow": null,
      "grid_auto_rows": null,
      "grid_column": null,
      "grid_gap": null,
      "grid_row": null,
      "grid_template_areas": null,
      "grid_template_columns": null,
      "grid_template_rows": null,
      "height": null,
      "justify_content": null,
      "justify_items": null,
      "left": null,
      "margin": null,
      "max_height": null,
      "max_width": null,
      "min_height": null,
      "min_width": null,
      "object_fit": null,
      "object_position": null,
      "order": null,
      "overflow": null,
      "overflow_x": null,
      "overflow_y": null,
      "padding": null,
      "right": null,
      "top": null,
      "visibility": null,
      "width": null
     }
    },
    "3b8047887cda4fa58e83441a2fd5b5cf": {
     "model_module": "@jupyter-widgets/controls",
     "model_module_version": "1.5.0",
     "model_name": "ProgressStyleModel",
     "state": {
      "_model_module": "@jupyter-widgets/controls",
      "_model_module_version": "1.5.0",
      "_model_name": "ProgressStyleModel",
      "_view_count": null,
      "_view_module": "@jupyter-widgets/base",
      "_view_module_version": "1.2.0",
      "_view_name": "StyleView",
      "bar_color": null,
      "description_width": ""
     }
    },
    "3cc44adf35c946a5919a6f4c7f6e0424": {
     "model_module": "@jupyter-widgets/controls",
     "model_module_version": "1.5.0",
     "model_name": "DescriptionStyleModel",
     "state": {
      "_model_module": "@jupyter-widgets/controls",
      "_model_module_version": "1.5.0",
      "_model_name": "DescriptionStyleModel",
      "_view_count": null,
      "_view_module": "@jupyter-widgets/base",
      "_view_module_version": "1.2.0",
      "_view_name": "StyleView",
      "description_width": ""
     }
    },
    "442b470585684f60874d8fa9828e16ad": {
     "model_module": "@jupyter-widgets/base",
     "model_module_version": "1.2.0",
     "model_name": "LayoutModel",
     "state": {
      "_model_module": "@jupyter-widgets/base",
      "_model_module_version": "1.2.0",
      "_model_name": "LayoutModel",
      "_view_count": null,
      "_view_module": "@jupyter-widgets/base",
      "_view_module_version": "1.2.0",
      "_view_name": "LayoutView",
      "align_content": null,
      "align_items": null,
      "align_self": null,
      "border": null,
      "bottom": null,
      "display": null,
      "flex": null,
      "flex_flow": null,
      "grid_area": null,
      "grid_auto_columns": null,
      "grid_auto_flow": null,
      "grid_auto_rows": null,
      "grid_column": null,
      "grid_gap": null,
      "grid_row": null,
      "grid_template_areas": null,
      "grid_template_columns": null,
      "grid_template_rows": null,
      "height": null,
      "justify_content": null,
      "justify_items": null,
      "left": null,
      "margin": null,
      "max_height": null,
      "max_width": null,
      "min_height": null,
      "min_width": null,
      "object_fit": null,
      "object_position": null,
      "order": null,
      "overflow": null,
      "overflow_x": null,
      "overflow_y": null,
      "padding": null,
      "right": null,
      "top": null,
      "visibility": null,
      "width": null
     }
    },
    "44d23a9c45e64faa9ddfae3318fbee17": {
     "model_module": "@jupyter-widgets/controls",
     "model_module_version": "1.5.0",
     "model_name": "DescriptionStyleModel",
     "state": {
      "_model_module": "@jupyter-widgets/controls",
      "_model_module_version": "1.5.0",
      "_model_name": "DescriptionStyleModel",
      "_view_count": null,
      "_view_module": "@jupyter-widgets/base",
      "_view_module_version": "1.2.0",
      "_view_name": "StyleView",
      "description_width": ""
     }
    },
    "556358fdea7a454d94a8101a3e03d256": {
     "model_module": "@jupyter-widgets/controls",
     "model_module_version": "1.5.0",
     "model_name": "HBoxModel",
     "state": {
      "_dom_classes": [],
      "_model_module": "@jupyter-widgets/controls",
      "_model_module_version": "1.5.0",
      "_model_name": "HBoxModel",
      "_view_count": null,
      "_view_module": "@jupyter-widgets/controls",
      "_view_module_version": "1.5.0",
      "_view_name": "HBoxView",
      "box_style": "",
      "children": [
       "IPY_MODEL_23431e32efcf4658bda8b88f909dc39d",
       "IPY_MODEL_b4c12ae2f089417094559e9f44853f90",
       "IPY_MODEL_af8e4e7a105f486b9968561ae8306520"
      ],
      "layout": "IPY_MODEL_22d7524b7eaa4c5094b52e087e2fd46b"
     }
    },
    "5bb5a246af1f4297b22581ca78ea1fea": {
     "model_module": "@jupyter-widgets/controls",
     "model_module_version": "1.5.0",
     "model_name": "DescriptionStyleModel",
     "state": {
      "_model_module": "@jupyter-widgets/controls",
      "_model_module_version": "1.5.0",
      "_model_name": "DescriptionStyleModel",
      "_view_count": null,
      "_view_module": "@jupyter-widgets/base",
      "_view_module_version": "1.2.0",
      "_view_name": "StyleView",
      "description_width": ""
     }
    },
    "5d0af7a264f946849c086573811b3b29": {
     "model_module": "@jupyter-widgets/base",
     "model_module_version": "1.2.0",
     "model_name": "LayoutModel",
     "state": {
      "_model_module": "@jupyter-widgets/base",
      "_model_module_version": "1.2.0",
      "_model_name": "LayoutModel",
      "_view_count": null,
      "_view_module": "@jupyter-widgets/base",
      "_view_module_version": "1.2.0",
      "_view_name": "LayoutView",
      "align_content": null,
      "align_items": null,
      "align_self": null,
      "border": null,
      "bottom": null,
      "display": null,
      "flex": null,
      "flex_flow": null,
      "grid_area": null,
      "grid_auto_columns": null,
      "grid_auto_flow": null,
      "grid_auto_rows": null,
      "grid_column": null,
      "grid_gap": null,
      "grid_row": null,
      "grid_template_areas": null,
      "grid_template_columns": null,
      "grid_template_rows": null,
      "height": null,
      "justify_content": null,
      "justify_items": null,
      "left": null,
      "margin": null,
      "max_height": null,
      "max_width": null,
      "min_height": null,
      "min_width": null,
      "object_fit": null,
      "object_position": null,
      "order": null,
      "overflow": null,
      "overflow_x": null,
      "overflow_y": null,
      "padding": null,
      "right": null,
      "top": null,
      "visibility": null,
      "width": null
     }
    },
    "5ddb102cf03f483385d512a48968326c": {
     "model_module": "@jupyter-widgets/controls",
     "model_module_version": "1.5.0",
     "model_name": "ProgressStyleModel",
     "state": {
      "_model_module": "@jupyter-widgets/controls",
      "_model_module_version": "1.5.0",
      "_model_name": "ProgressStyleModel",
      "_view_count": null,
      "_view_module": "@jupyter-widgets/base",
      "_view_module_version": "1.2.0",
      "_view_name": "StyleView",
      "bar_color": null,
      "description_width": ""
     }
    },
    "62f85e21f890409b8a5e38ff785eda01": {
     "model_module": "@jupyter-widgets/controls",
     "model_module_version": "1.5.0",
     "model_name": "HBoxModel",
     "state": {
      "_dom_classes": [],
      "_model_module": "@jupyter-widgets/controls",
      "_model_module_version": "1.5.0",
      "_model_name": "HBoxModel",
      "_view_count": null,
      "_view_module": "@jupyter-widgets/controls",
      "_view_module_version": "1.5.0",
      "_view_name": "HBoxView",
      "box_style": "",
      "children": [
       "IPY_MODEL_c660ef9b40d14879bdb3e82ed0314847",
       "IPY_MODEL_103f091eafce472cb867545e2a26cc15",
       "IPY_MODEL_9fb35095a9a74f1aa408976d6743ca3f"
      ],
      "layout": "IPY_MODEL_02b5e5ad49d54eba81ff6521574ff500"
     }
    },
    "634fe635dd6f4941b275ccbd09e61e57": {
     "model_module": "@jupyter-widgets/controls",
     "model_module_version": "1.5.0",
     "model_name": "HTMLModel",
     "state": {
      "_dom_classes": [],
      "_model_module": "@jupyter-widgets/controls",
      "_model_module_version": "1.5.0",
      "_model_name": "HTMLModel",
      "_view_count": null,
      "_view_module": "@jupyter-widgets/controls",
      "_view_module_version": "1.5.0",
      "_view_name": "HTMLView",
      "description": "",
      "description_tooltip": null,
      "layout": "IPY_MODEL_a23caa18b0bd4f0c98bebbfce79356b9",
      "placeholder": "​",
      "style": "IPY_MODEL_35b37e9c22e449428b963c498f8880e4",
      "value": " 48.0/48.0 [00:00&lt;00:00, 3.07kB/s]"
     }
    },
    "661c4f8bb1a649bc85941227905d0b94": {
     "model_module": "@jupyter-widgets/controls",
     "model_module_version": "1.5.0",
     "model_name": "ProgressStyleModel",
     "state": {
      "_model_module": "@jupyter-widgets/controls",
      "_model_module_version": "1.5.0",
      "_model_name": "ProgressStyleModel",
      "_view_count": null,
      "_view_module": "@jupyter-widgets/base",
      "_view_module_version": "1.2.0",
      "_view_name": "StyleView",
      "bar_color": null,
      "description_width": ""
     }
    },
    "66301f28fe574cfea13123805eaee7ab": {
     "model_module": "@jupyter-widgets/base",
     "model_module_version": "1.2.0",
     "model_name": "LayoutModel",
     "state": {
      "_model_module": "@jupyter-widgets/base",
      "_model_module_version": "1.2.0",
      "_model_name": "LayoutModel",
      "_view_count": null,
      "_view_module": "@jupyter-widgets/base",
      "_view_module_version": "1.2.0",
      "_view_name": "LayoutView",
      "align_content": null,
      "align_items": null,
      "align_self": null,
      "border": null,
      "bottom": null,
      "display": null,
      "flex": null,
      "flex_flow": null,
      "grid_area": null,
      "grid_auto_columns": null,
      "grid_auto_flow": null,
      "grid_auto_rows": null,
      "grid_column": null,
      "grid_gap": null,
      "grid_row": null,
      "grid_template_areas": null,
      "grid_template_columns": null,
      "grid_template_rows": null,
      "height": null,
      "justify_content": null,
      "justify_items": null,
      "left": null,
      "margin": null,
      "max_height": null,
      "max_width": null,
      "min_height": null,
      "min_width": null,
      "object_fit": null,
      "object_position": null,
      "order": null,
      "overflow": null,
      "overflow_x": null,
      "overflow_y": null,
      "padding": null,
      "right": null,
      "top": null,
      "visibility": null,
      "width": null
     }
    },
    "6c2b1aed56234748ba4d8e0acb0b0fc2": {
     "model_module": "@jupyter-widgets/controls",
     "model_module_version": "1.5.0",
     "model_name": "DescriptionStyleModel",
     "state": {
      "_model_module": "@jupyter-widgets/controls",
      "_model_module_version": "1.5.0",
      "_model_name": "DescriptionStyleModel",
      "_view_count": null,
      "_view_module": "@jupyter-widgets/base",
      "_view_module_version": "1.2.0",
      "_view_name": "StyleView",
      "description_width": ""
     }
    },
    "70801a2e5f384833be0ad22a0e4e9a21": {
     "model_module": "@jupyter-widgets/controls",
     "model_module_version": "1.5.0",
     "model_name": "HTMLModel",
     "state": {
      "_dom_classes": [],
      "_model_module": "@jupyter-widgets/controls",
      "_model_module_version": "1.5.0",
      "_model_name": "HTMLModel",
      "_view_count": null,
      "_view_module": "@jupyter-widgets/controls",
      "_view_module_version": "1.5.0",
      "_view_name": "HTMLView",
      "description": "",
      "description_tooltip": null,
      "layout": "IPY_MODEL_070106cad5bb4f67a6676bfe42a664b0",
      "placeholder": "​",
      "style": "IPY_MODEL_44d23a9c45e64faa9ddfae3318fbee17",
      "value": "vocab.txt: 100%"
     }
    },
    "7330738862bd44559f956daab1dc1d60": {
     "model_module": "@jupyter-widgets/base",
     "model_module_version": "1.2.0",
     "model_name": "LayoutModel",
     "state": {
      "_model_module": "@jupyter-widgets/base",
      "_model_module_version": "1.2.0",
      "_model_name": "LayoutModel",
      "_view_count": null,
      "_view_module": "@jupyter-widgets/base",
      "_view_module_version": "1.2.0",
      "_view_name": "LayoutView",
      "align_content": null,
      "align_items": null,
      "align_self": null,
      "border": null,
      "bottom": null,
      "display": null,
      "flex": null,
      "flex_flow": null,
      "grid_area": null,
      "grid_auto_columns": null,
      "grid_auto_flow": null,
      "grid_auto_rows": null,
      "grid_column": null,
      "grid_gap": null,
      "grid_row": null,
      "grid_template_areas": null,
      "grid_template_columns": null,
      "grid_template_rows": null,
      "height": null,
      "justify_content": null,
      "justify_items": null,
      "left": null,
      "margin": null,
      "max_height": null,
      "max_width": null,
      "min_height": null,
      "min_width": null,
      "object_fit": null,
      "object_position": null,
      "order": null,
      "overflow": null,
      "overflow_x": null,
      "overflow_y": null,
      "padding": null,
      "right": null,
      "top": null,
      "visibility": null,
      "width": null
     }
    },
    "74d76fccb12d4b1a9d2460278aa080ec": {
     "model_module": "@jupyter-widgets/controls",
     "model_module_version": "1.5.0",
     "model_name": "FloatProgressModel",
     "state": {
      "_dom_classes": [],
      "_model_module": "@jupyter-widgets/controls",
      "_model_module_version": "1.5.0",
      "_model_name": "FloatProgressModel",
      "_view_count": null,
      "_view_module": "@jupyter-widgets/controls",
      "_view_module_version": "1.5.0",
      "_view_name": "ProgressView",
      "bar_style": "success",
      "description": "",
      "description_tooltip": null,
      "layout": "IPY_MODEL_9f1f98f3206f442c93b95613ecab0d5e",
      "max": 231508,
      "min": 0,
      "orientation": "horizontal",
      "style": "IPY_MODEL_661c4f8bb1a649bc85941227905d0b94",
      "value": 231508
     }
    },
    "7a45a4ff70e64022bf975a02bff0724a": {
     "model_module": "@jupyter-widgets/controls",
     "model_module_version": "1.5.0",
     "model_name": "DescriptionStyleModel",
     "state": {
      "_model_module": "@jupyter-widgets/controls",
      "_model_module_version": "1.5.0",
      "_model_name": "DescriptionStyleModel",
      "_view_count": null,
      "_view_module": "@jupyter-widgets/base",
      "_view_module_version": "1.2.0",
      "_view_name": "StyleView",
      "description_width": ""
     }
    },
    "7ac7d0d8cda14abfa12abcf5f776ac39": {
     "model_module": "@jupyter-widgets/controls",
     "model_module_version": "1.5.0",
     "model_name": "HTMLModel",
     "state": {
      "_dom_classes": [],
      "_model_module": "@jupyter-widgets/controls",
      "_model_module_version": "1.5.0",
      "_model_name": "HTMLModel",
      "_view_count": null,
      "_view_module": "@jupyter-widgets/controls",
      "_view_module_version": "1.5.0",
      "_view_name": "HTMLView",
      "description": "",
      "description_tooltip": null,
      "layout": "IPY_MODEL_262547de77ea43a485e02d109504ec2b",
      "placeholder": "​",
      "style": "IPY_MODEL_2065830a9cca4a89bfdefec855c03423",
      "value": "tokenizer.json: 100%"
     }
    },
    "828cc4c2f5a44e90805df7e276cb274f": {
     "model_module": "@jupyter-widgets/base",
     "model_module_version": "1.2.0",
     "model_name": "LayoutModel",
     "state": {
      "_model_module": "@jupyter-widgets/base",
      "_model_module_version": "1.2.0",
      "_model_name": "LayoutModel",
      "_view_count": null,
      "_view_module": "@jupyter-widgets/base",
      "_view_module_version": "1.2.0",
      "_view_name": "LayoutView",
      "align_content": null,
      "align_items": null,
      "align_self": null,
      "border": null,
      "bottom": null,
      "display": null,
      "flex": null,
      "flex_flow": null,
      "grid_area": null,
      "grid_auto_columns": null,
      "grid_auto_flow": null,
      "grid_auto_rows": null,
      "grid_column": null,
      "grid_gap": null,
      "grid_row": null,
      "grid_template_areas": null,
      "grid_template_columns": null,
      "grid_template_rows": null,
      "height": null,
      "justify_content": null,
      "justify_items": null,
      "left": null,
      "margin": null,
      "max_height": null,
      "max_width": null,
      "min_height": null,
      "min_width": null,
      "object_fit": null,
      "object_position": null,
      "order": null,
      "overflow": null,
      "overflow_x": null,
      "overflow_y": null,
      "padding": null,
      "right": null,
      "top": null,
      "visibility": null,
      "width": null
     }
    },
    "8b8d33ec1af44b6aaeefa1ec29c43030": {
     "model_module": "@jupyter-widgets/base",
     "model_module_version": "1.2.0",
     "model_name": "LayoutModel",
     "state": {
      "_model_module": "@jupyter-widgets/base",
      "_model_module_version": "1.2.0",
      "_model_name": "LayoutModel",
      "_view_count": null,
      "_view_module": "@jupyter-widgets/base",
      "_view_module_version": "1.2.0",
      "_view_name": "LayoutView",
      "align_content": null,
      "align_items": null,
      "align_self": null,
      "border": null,
      "bottom": null,
      "display": null,
      "flex": null,
      "flex_flow": null,
      "grid_area": null,
      "grid_auto_columns": null,
      "grid_auto_flow": null,
      "grid_auto_rows": null,
      "grid_column": null,
      "grid_gap": null,
      "grid_row": null,
      "grid_template_areas": null,
      "grid_template_columns": null,
      "grid_template_rows": null,
      "height": null,
      "justify_content": null,
      "justify_items": null,
      "left": null,
      "margin": null,
      "max_height": null,
      "max_width": null,
      "min_height": null,
      "min_width": null,
      "object_fit": null,
      "object_position": null,
      "order": null,
      "overflow": null,
      "overflow_x": null,
      "overflow_y": null,
      "padding": null,
      "right": null,
      "top": null,
      "visibility": null,
      "width": null
     }
    },
    "8bd5675d6fd74d808adcfefaefc198b1": {
     "model_module": "@jupyter-widgets/controls",
     "model_module_version": "1.5.0",
     "model_name": "FloatProgressModel",
     "state": {
      "_dom_classes": [],
      "_model_module": "@jupyter-widgets/controls",
      "_model_module_version": "1.5.0",
      "_model_name": "FloatProgressModel",
      "_view_count": null,
      "_view_module": "@jupyter-widgets/controls",
      "_view_module_version": "1.5.0",
      "_view_name": "ProgressView",
      "bar_style": "success",
      "description": "",
      "description_tooltip": null,
      "layout": "IPY_MODEL_a4a707ca00334e889ca436adbbc2710b",
      "max": 48,
      "min": 0,
      "orientation": "horizontal",
      "style": "IPY_MODEL_8f84b9b9b66f41268a9ea2b5083a496f",
      "value": 48
     }
    },
    "8f84b9b9b66f41268a9ea2b5083a496f": {
     "model_module": "@jupyter-widgets/controls",
     "model_module_version": "1.5.0",
     "model_name": "ProgressStyleModel",
     "state": {
      "_model_module": "@jupyter-widgets/controls",
      "_model_module_version": "1.5.0",
      "_model_name": "ProgressStyleModel",
      "_view_count": null,
      "_view_module": "@jupyter-widgets/base",
      "_view_module_version": "1.2.0",
      "_view_name": "StyleView",
      "bar_color": null,
      "description_width": ""
     }
    },
    "9457723de557438887975bbfbbd204b0": {
     "model_module": "@jupyter-widgets/controls",
     "model_module_version": "1.5.0",
     "model_name": "DescriptionStyleModel",
     "state": {
      "_model_module": "@jupyter-widgets/controls",
      "_model_module_version": "1.5.0",
      "_model_name": "DescriptionStyleModel",
      "_view_count": null,
      "_view_module": "@jupyter-widgets/base",
      "_view_module_version": "1.2.0",
      "_view_name": "StyleView",
      "description_width": ""
     }
    },
    "99cd949929c84c8b9c820f3d98b6ecf5": {
     "model_module": "@jupyter-widgets/base",
     "model_module_version": "1.2.0",
     "model_name": "LayoutModel",
     "state": {
      "_model_module": "@jupyter-widgets/base",
      "_model_module_version": "1.2.0",
      "_model_name": "LayoutModel",
      "_view_count": null,
      "_view_module": "@jupyter-widgets/base",
      "_view_module_version": "1.2.0",
      "_view_name": "LayoutView",
      "align_content": null,
      "align_items": null,
      "align_self": null,
      "border": null,
      "bottom": null,
      "display": null,
      "flex": null,
      "flex_flow": null,
      "grid_area": null,
      "grid_auto_columns": null,
      "grid_auto_flow": null,
      "grid_auto_rows": null,
      "grid_column": null,
      "grid_gap": null,
      "grid_row": null,
      "grid_template_areas": null,
      "grid_template_columns": null,
      "grid_template_rows": null,
      "height": null,
      "justify_content": null,
      "justify_items": null,
      "left": null,
      "margin": null,
      "max_height": null,
      "max_width": null,
      "min_height": null,
      "min_width": null,
      "object_fit": null,
      "object_position": null,
      "order": null,
      "overflow": null,
      "overflow_x": null,
      "overflow_y": null,
      "padding": null,
      "right": null,
      "top": null,
      "visibility": null,
      "width": null
     }
    },
    "9eb363a3664442458cff4ea4cd7aecc4": {
     "model_module": "@jupyter-widgets/controls",
     "model_module_version": "1.5.0",
     "model_name": "DescriptionStyleModel",
     "state": {
      "_model_module": "@jupyter-widgets/controls",
      "_model_module_version": "1.5.0",
      "_model_name": "DescriptionStyleModel",
      "_view_count": null,
      "_view_module": "@jupyter-widgets/base",
      "_view_module_version": "1.2.0",
      "_view_name": "StyleView",
      "description_width": ""
     }
    },
    "9f1f98f3206f442c93b95613ecab0d5e": {
     "model_module": "@jupyter-widgets/base",
     "model_module_version": "1.2.0",
     "model_name": "LayoutModel",
     "state": {
      "_model_module": "@jupyter-widgets/base",
      "_model_module_version": "1.2.0",
      "_model_name": "LayoutModel",
      "_view_count": null,
      "_view_module": "@jupyter-widgets/base",
      "_view_module_version": "1.2.0",
      "_view_name": "LayoutView",
      "align_content": null,
      "align_items": null,
      "align_self": null,
      "border": null,
      "bottom": null,
      "display": null,
      "flex": null,
      "flex_flow": null,
      "grid_area": null,
      "grid_auto_columns": null,
      "grid_auto_flow": null,
      "grid_auto_rows": null,
      "grid_column": null,
      "grid_gap": null,
      "grid_row": null,
      "grid_template_areas": null,
      "grid_template_columns": null,
      "grid_template_rows": null,
      "height": null,
      "justify_content": null,
      "justify_items": null,
      "left": null,
      "margin": null,
      "max_height": null,
      "max_width": null,
      "min_height": null,
      "min_width": null,
      "object_fit": null,
      "object_position": null,
      "order": null,
      "overflow": null,
      "overflow_x": null,
      "overflow_y": null,
      "padding": null,
      "right": null,
      "top": null,
      "visibility": null,
      "width": null
     }
    },
    "9fb35095a9a74f1aa408976d6743ca3f": {
     "model_module": "@jupyter-widgets/controls",
     "model_module_version": "1.5.0",
     "model_name": "HTMLModel",
     "state": {
      "_dom_classes": [],
      "_model_module": "@jupyter-widgets/controls",
      "_model_module_version": "1.5.0",
      "_model_name": "HTMLModel",
      "_view_count": null,
      "_view_module": "@jupyter-widgets/controls",
      "_view_module_version": "1.5.0",
      "_view_name": "HTMLView",
      "description": "",
      "description_tooltip": null,
      "layout": "IPY_MODEL_5d0af7a264f946849c086573811b3b29",
      "placeholder": "​",
      "style": "IPY_MODEL_7a45a4ff70e64022bf975a02bff0724a",
      "value": " 570/570 [00:00&lt;00:00, 37.4kB/s]"
     }
    },
    "a23caa18b0bd4f0c98bebbfce79356b9": {
     "model_module": "@jupyter-widgets/base",
     "model_module_version": "1.2.0",
     "model_name": "LayoutModel",
     "state": {
      "_model_module": "@jupyter-widgets/base",
      "_model_module_version": "1.2.0",
      "_model_name": "LayoutModel",
      "_view_count": null,
      "_view_module": "@jupyter-widgets/base",
      "_view_module_version": "1.2.0",
      "_view_name": "LayoutView",
      "align_content": null,
      "align_items": null,
      "align_self": null,
      "border": null,
      "bottom": null,
      "display": null,
      "flex": null,
      "flex_flow": null,
      "grid_area": null,
      "grid_auto_columns": null,
      "grid_auto_flow": null,
      "grid_auto_rows": null,
      "grid_column": null,
      "grid_gap": null,
      "grid_row": null,
      "grid_template_areas": null,
      "grid_template_columns": null,
      "grid_template_rows": null,
      "height": null,
      "justify_content": null,
      "justify_items": null,
      "left": null,
      "margin": null,
      "max_height": null,
      "max_width": null,
      "min_height": null,
      "min_width": null,
      "object_fit": null,
      "object_position": null,
      "order": null,
      "overflow": null,
      "overflow_x": null,
      "overflow_y": null,
      "padding": null,
      "right": null,
      "top": null,
      "visibility": null,
      "width": null
     }
    },
    "a4a707ca00334e889ca436adbbc2710b": {
     "model_module": "@jupyter-widgets/base",
     "model_module_version": "1.2.0",
     "model_name": "LayoutModel",
     "state": {
      "_model_module": "@jupyter-widgets/base",
      "_model_module_version": "1.2.0",
      "_model_name": "LayoutModel",
      "_view_count": null,
      "_view_module": "@jupyter-widgets/base",
      "_view_module_version": "1.2.0",
      "_view_name": "LayoutView",
      "align_content": null,
      "align_items": null,
      "align_self": null,
      "border": null,
      "bottom": null,
      "display": null,
      "flex": null,
      "flex_flow": null,
      "grid_area": null,
      "grid_auto_columns": null,
      "grid_auto_flow": null,
      "grid_auto_rows": null,
      "grid_column": null,
      "grid_gap": null,
      "grid_row": null,
      "grid_template_areas": null,
      "grid_template_columns": null,
      "grid_template_rows": null,
      "height": null,
      "justify_content": null,
      "justify_items": null,
      "left": null,
      "margin": null,
      "max_height": null,
      "max_width": null,
      "min_height": null,
      "min_width": null,
      "object_fit": null,
      "object_position": null,
      "order": null,
      "overflow": null,
      "overflow_x": null,
      "overflow_y": null,
      "padding": null,
      "right": null,
      "top": null,
      "visibility": null,
      "width": null
     }
    },
    "a5cfa69c79a3441eb864e8b5669d736d": {
     "model_module": "@jupyter-widgets/controls",
     "model_module_version": "1.5.0",
     "model_name": "HBoxModel",
     "state": {
      "_dom_classes": [],
      "_model_module": "@jupyter-widgets/controls",
      "_model_module_version": "1.5.0",
      "_model_name": "HBoxModel",
      "_view_count": null,
      "_view_module": "@jupyter-widgets/controls",
      "_view_module_version": "1.5.0",
      "_view_name": "HBoxView",
      "box_style": "",
      "children": [
       "IPY_MODEL_312bd455027b4c5594ee1679075516f0",
       "IPY_MODEL_8bd5675d6fd74d808adcfefaefc198b1",
       "IPY_MODEL_634fe635dd6f4941b275ccbd09e61e57"
      ],
      "layout": "IPY_MODEL_38502c14034b418fa014c77437157f51"
     }
    },
    "af8e4e7a105f486b9968561ae8306520": {
     "model_module": "@jupyter-widgets/controls",
     "model_module_version": "1.5.0",
     "model_name": "HTMLModel",
     "state": {
      "_dom_classes": [],
      "_model_module": "@jupyter-widgets/controls",
      "_model_module_version": "1.5.0",
      "_model_name": "HTMLModel",
      "_view_count": null,
      "_view_module": "@jupyter-widgets/controls",
      "_view_module_version": "1.5.0",
      "_view_name": "HTMLView",
      "description": "",
      "description_tooltip": null,
      "layout": "IPY_MODEL_7330738862bd44559f956daab1dc1d60",
      "placeholder": "​",
      "style": "IPY_MODEL_6c2b1aed56234748ba4d8e0acb0b0fc2",
      "value": " 440M/440M [00:02&lt;00:00, 231MB/s]"
     }
    },
    "b4c12ae2f089417094559e9f44853f90": {
     "model_module": "@jupyter-widgets/controls",
     "model_module_version": "1.5.0",
     "model_name": "FloatProgressModel",
     "state": {
      "_dom_classes": [],
      "_model_module": "@jupyter-widgets/controls",
      "_model_module_version": "1.5.0",
      "_model_name": "FloatProgressModel",
      "_view_count": null,
      "_view_module": "@jupyter-widgets/controls",
      "_view_module_version": "1.5.0",
      "_view_name": "ProgressView",
      "bar_style": "success",
      "description": "",
      "description_tooltip": null,
      "layout": "IPY_MODEL_99cd949929c84c8b9c820f3d98b6ecf5",
      "max": 440449768,
      "min": 0,
      "orientation": "horizontal",
      "style": "IPY_MODEL_5ddb102cf03f483385d512a48968326c",
      "value": 440449768
     }
    },
    "c660ef9b40d14879bdb3e82ed0314847": {
     "model_module": "@jupyter-widgets/controls",
     "model_module_version": "1.5.0",
     "model_name": "HTMLModel",
     "state": {
      "_dom_classes": [],
      "_model_module": "@jupyter-widgets/controls",
      "_model_module_version": "1.5.0",
      "_model_name": "HTMLModel",
      "_view_count": null,
      "_view_module": "@jupyter-widgets/controls",
      "_view_module_version": "1.5.0",
      "_view_name": "HTMLView",
      "description": "",
      "description_tooltip": null,
      "layout": "IPY_MODEL_66301f28fe574cfea13123805eaee7ab",
      "placeholder": "​",
      "style": "IPY_MODEL_5bb5a246af1f4297b22581ca78ea1fea",
      "value": "config.json: 100%"
     }
    },
    "ced8429935e8443db90ab3d1d8cdc3ec": {
     "model_module": "@jupyter-widgets/controls",
     "model_module_version": "1.5.0",
     "model_name": "HTMLModel",
     "state": {
      "_dom_classes": [],
      "_model_module": "@jupyter-widgets/controls",
      "_model_module_version": "1.5.0",
      "_model_name": "HTMLModel",
      "_view_count": null,
      "_view_module": "@jupyter-widgets/controls",
      "_view_module_version": "1.5.0",
      "_view_name": "HTMLView",
      "description": "",
      "description_tooltip": null,
      "layout": "IPY_MODEL_d4997bc52dc6498292d88279b6fa04b7",
      "placeholder": "​",
      "style": "IPY_MODEL_9eb363a3664442458cff4ea4cd7aecc4",
      "value": " 466k/466k [00:00&lt;00:00, 9.58MB/s]"
     }
    },
    "d4997bc52dc6498292d88279b6fa04b7": {
     "model_module": "@jupyter-widgets/base",
     "model_module_version": "1.2.0",
     "model_name": "LayoutModel",
     "state": {
      "_model_module": "@jupyter-widgets/base",
      "_model_module_version": "1.2.0",
      "_model_name": "LayoutModel",
      "_view_count": null,
      "_view_module": "@jupyter-widgets/base",
      "_view_module_version": "1.2.0",
      "_view_name": "LayoutView",
      "align_content": null,
      "align_items": null,
      "align_self": null,
      "border": null,
      "bottom": null,
      "display": null,
      "flex": null,
      "flex_flow": null,
      "grid_area": null,
      "grid_auto_columns": null,
      "grid_auto_flow": null,
      "grid_auto_rows": null,
      "grid_column": null,
      "grid_gap": null,
      "grid_row": null,
      "grid_template_areas": null,
      "grid_template_columns": null,
      "grid_template_rows": null,
      "height": null,
      "justify_content": null,
      "justify_items": null,
      "left": null,
      "margin": null,
      "max_height": null,
      "max_width": null,
      "min_height": null,
      "min_width": null,
      "object_fit": null,
      "object_position": null,
      "order": null,
      "overflow": null,
      "overflow_x": null,
      "overflow_y": null,
      "padding": null,
      "right": null,
      "top": null,
      "visibility": null,
      "width": null
     }
    },
    "e301bb40ada449e7a4a549a19c84b8ef": {
     "model_module": "@jupyter-widgets/base",
     "model_module_version": "1.2.0",
     "model_name": "LayoutModel",
     "state": {
      "_model_module": "@jupyter-widgets/base",
      "_model_module_version": "1.2.0",
      "_model_name": "LayoutModel",
      "_view_count": null,
      "_view_module": "@jupyter-widgets/base",
      "_view_module_version": "1.2.0",
      "_view_name": "LayoutView",
      "align_content": null,
      "align_items": null,
      "align_self": null,
      "border": null,
      "bottom": null,
      "display": null,
      "flex": null,
      "flex_flow": null,
      "grid_area": null,
      "grid_auto_columns": null,
      "grid_auto_flow": null,
      "grid_auto_rows": null,
      "grid_column": null,
      "grid_gap": null,
      "grid_row": null,
      "grid_template_areas": null,
      "grid_template_columns": null,
      "grid_template_rows": null,
      "height": null,
      "justify_content": null,
      "justify_items": null,
      "left": null,
      "margin": null,
      "max_height": null,
      "max_width": null,
      "min_height": null,
      "min_width": null,
      "object_fit": null,
      "object_position": null,
      "order": null,
      "overflow": null,
      "overflow_x": null,
      "overflow_y": null,
      "padding": null,
      "right": null,
      "top": null,
      "visibility": null,
      "width": null
     }
    },
    "e41fcce567ba4a318f654ab8d03eb708": {
     "model_module": "@jupyter-widgets/controls",
     "model_module_version": "1.5.0",
     "model_name": "ProgressStyleModel",
     "state": {
      "_model_module": "@jupyter-widgets/controls",
      "_model_module_version": "1.5.0",
      "_model_name": "ProgressStyleModel",
      "_view_count": null,
      "_view_module": "@jupyter-widgets/base",
      "_view_module_version": "1.2.0",
      "_view_name": "StyleView",
      "bar_color": null,
      "description_width": ""
     }
    },
    "f0782aeb31534c00bae8fe80a26d41a4": {
     "model_module": "@jupyter-widgets/controls",
     "model_module_version": "1.5.0",
     "model_name": "DescriptionStyleModel",
     "state": {
      "_model_module": "@jupyter-widgets/controls",
      "_model_module_version": "1.5.0",
      "_model_name": "DescriptionStyleModel",
      "_view_count": null,
      "_view_module": "@jupyter-widgets/base",
      "_view_module_version": "1.2.0",
      "_view_name": "StyleView",
      "description_width": ""
     }
    },
    "f6de4137bd3e4d7ea5ef93ad8bf34eb4": {
     "model_module": "@jupyter-widgets/controls",
     "model_module_version": "1.5.0",
     "model_name": "HBoxModel",
     "state": {
      "_dom_classes": [],
      "_model_module": "@jupyter-widgets/controls",
      "_model_module_version": "1.5.0",
      "_model_name": "HBoxModel",
      "_view_count": null,
      "_view_module": "@jupyter-widgets/controls",
      "_view_module_version": "1.5.0",
      "_view_name": "HBoxView",
      "box_style": "",
      "children": [
       "IPY_MODEL_70801a2e5f384833be0ad22a0e4e9a21",
       "IPY_MODEL_74d76fccb12d4b1a9d2460278aa080ec",
       "IPY_MODEL_347e67b728a54bc08a833c09be1b0f60"
      ],
      "layout": "IPY_MODEL_8b8d33ec1af44b6aaeefa1ec29c43030"
     }
    },
    "f8ea31a9753b491884ae0a851fe163c1": {
     "model_module": "@jupyter-widgets/base",
     "model_module_version": "1.2.0",
     "model_name": "LayoutModel",
     "state": {
      "_model_module": "@jupyter-widgets/base",
      "_model_module_version": "1.2.0",
      "_model_name": "LayoutModel",
      "_view_count": null,
      "_view_module": "@jupyter-widgets/base",
      "_view_module_version": "1.2.0",
      "_view_name": "LayoutView",
      "align_content": null,
      "align_items": null,
      "align_self": null,
      "border": null,
      "bottom": null,
      "display": null,
      "flex": null,
      "flex_flow": null,
      "grid_area": null,
      "grid_auto_columns": null,
      "grid_auto_flow": null,
      "grid_auto_rows": null,
      "grid_column": null,
      "grid_gap": null,
      "grid_row": null,
      "grid_template_areas": null,
      "grid_template_columns": null,
      "grid_template_rows": null,
      "height": null,
      "justify_content": null,
      "justify_items": null,
      "left": null,
      "margin": null,
      "max_height": null,
      "max_width": null,
      "min_height": null,
      "min_width": null,
      "object_fit": null,
      "object_position": null,
      "order": null,
      "overflow": null,
      "overflow_x": null,
      "overflow_y": null,
      "padding": null,
      "right": null,
      "top": null,
      "visibility": null,
      "width": null
     }
    },
    "ffcafdddeeb343bea0daf254581a2b68": {
     "model_module": "@jupyter-widgets/base",
     "model_module_version": "1.2.0",
     "model_name": "LayoutModel",
     "state": {
      "_model_module": "@jupyter-widgets/base",
      "_model_module_version": "1.2.0",
      "_model_name": "LayoutModel",
      "_view_count": null,
      "_view_module": "@jupyter-widgets/base",
      "_view_module_version": "1.2.0",
      "_view_name": "LayoutView",
      "align_content": null,
      "align_items": null,
      "align_self": null,
      "border": null,
      "bottom": null,
      "display": null,
      "flex": null,
      "flex_flow": null,
      "grid_area": null,
      "grid_auto_columns": null,
      "grid_auto_flow": null,
      "grid_auto_rows": null,
      "grid_column": null,
      "grid_gap": null,
      "grid_row": null,
      "grid_template_areas": null,
      "grid_template_columns": null,
      "grid_template_rows": null,
      "height": null,
      "justify_content": null,
      "justify_items": null,
      "left": null,
      "margin": null,
      "max_height": null,
      "max_width": null,
      "min_height": null,
      "min_width": null,
      "object_fit": null,
      "object_position": null,
      "order": null,
      "overflow": null,
      "overflow_x": null,
      "overflow_y": null,
      "padding": null,
      "right": null,
      "top": null,
      "visibility": null,
      "width": null
     }
    }
   }
  }
 },
 "nbformat": 4,
 "nbformat_minor": 0
}
